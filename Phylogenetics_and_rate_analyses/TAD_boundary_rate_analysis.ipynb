{
 "cells": [
  {
   "cell_type": "markdown",
   "metadata": {},
   "source": [
    "### Turn Cytoscape (v 3.8.2) cluster output into binary fasta"
   ]
  },
  {
   "cell_type": "markdown",
   "metadata": {},
   "source": [
    "First run Snakefile_final rule __boundary_concat__ to make the \"{sample}\\_{sample2}\\_hc\\_conserved\\_boundaries\" files\n",
    "Second concatenate (cat) all of these.\n",
    "Then input into __Cytoscape__."
   ]
  },
  {
   "cell_type": "code",
   "execution_count": null,
   "metadata": {},
   "outputs": [],
   "source": [
    "#cat -n louvain_cytoscape_output.csv | tail -1025 | sed -r 's/\"//g' - | sed -r 's/,/\\t/g' - | sed -r 's/d/\\t d/g' - > louvain_t_all"
   ]
  },
  {
   "cell_type": "code",
   "execution_count": 1,
   "metadata": {},
   "outputs": [],
   "source": [
    "species = [\"dmel\", \"dsim\", \"dtak\", \"deug\", \"dere\", \"dyak\", \"dbia\", \"dele\", \"dfic\", \"dtri\", \"dana\"]"
   ]
  },
  {
   "cell_type": "code",
   "execution_count": 2,
   "metadata": {},
   "outputs": [],
   "source": [
    "spc = [\">dmel\", \">dsim\", \">dtak\", \">deug\", \">dere\", \">dyak\", \">dbia\", \">dele\", \">dfic\", \">dtri\", \">dana\"]"
   ]
  },
  {
   "cell_type": "code",
   "execution_count": 3,
   "metadata": {},
   "outputs": [],
   "source": [
    "import numpy as np"
   ]
  },
  {
   "cell_type": "code",
   "execution_count": 4,
   "metadata": {},
   "outputs": [],
   "source": [
    "import sys"
   ]
  },
  {
   "cell_type": "code",
   "execution_count": 5,
   "metadata": {},
   "outputs": [],
   "source": [
    "import pandas as pd"
   ]
  },
  {
   "cell_type": "code",
   "execution_count": 6,
   "metadata": {},
   "outputs": [],
   "source": [
    "import os"
   ]
  },
  {
   "cell_type": "code",
   "execution_count": 7,
   "metadata": {},
   "outputs": [],
   "source": [
    "#presence absence\n",
    "f = open(\"louvain_t_all\", \"r\")\n",
    "z = open(\"presense_absence_by_line.txt\", \"w\")\n",
    "r = open(\"TAD_ranks_chromatin.txt\", \"w\")\n",
    "array = []\n",
    "lc = -1\n",
    "for line in f:\n",
    "    msa = {}\n",
    "    l = line.split(\"\\t\")\n",
    "    temp = []\n",
    "    for i in l:\n",
    "        s = i.strip()\n",
    "        temp.append(s[0:4])\n",
    "    #print(temp)\n",
    "    for sp in species:\n",
    "        if sp in temp:\n",
    "            msa[sp] = 1\n",
    "        else:\n",
    "            msa[sp]= 0\n",
    "    line_array = []\n",
    "    for k,v in msa.items():  \n",
    "        line_array.append(v)\n",
    "        z.write(str(k) + \":\" + str(v) + \"\\t\")\n",
    "    #print(str(dmid) + \"\\t\"+ str(chromatin))\n",
    "    array.append(line_array)\n",
    "    #following 7 lines to keep track of TAD rank and chromatin\n",
    "    lc += 1\n",
    "    count = line_array.count(1)\n",
    "    if \"dmel\" in temp:\n",
    "        r.write(str(lc) + \"\\t\" + str(count) + \"\\n\")\n",
    "    else:\n",
    "        r.write(str(lc) + \"\\t\" + str(count) + \"\\t\" + \"no_dmel\" + \"\\n\")\n",
    "    z.write(\"\\n\")\n",
    "z.close()\n",
    "r.close()"
   ]
  },
  {
   "cell_type": "code",
   "execution_count": 39,
   "metadata": {},
   "outputs": [],
   "source": [
    "#following 2 cells to turn presence absense matrix to binary fasta"
   ]
  },
  {
   "cell_type": "code",
   "execution_count": 8,
   "metadata": {},
   "outputs": [],
   "source": [
    "a = np.asarray(array)\n",
    "b = a.transpose()\n",
    "df = pd.DataFrame(b)"
   ]
  },
  {
   "cell_type": "code",
   "execution_count": 9,
   "metadata": {},
   "outputs": [],
   "source": [
    "#for fasta format\n",
    "df.insert(loc=0, column = 'sp', value=spc)\n",
    "df.to_csv(\"boundary_phylo.txt\",index=False, sep =' ')"
   ]
  },
  {
   "cell_type": "markdown",
   "metadata": {},
   "source": [
    "### Use IQtree to create phylogenetic tree from boundary fasta"
   ]
  },
  {
   "cell_type": "markdown",
   "metadata": {},
   "source": [
    "IQ-TREE v. 2.1.4"
   ]
  },
  {
   "cell_type": "code",
   "execution_count": null,
   "metadata": {},
   "outputs": [],
   "source": [
    "iqtree -s boundary_phylo.fasta -m MFP -pre bounds_mp_const_2 -g suvorov_sub_nv.newick -redo -o dana\n",
    "#rerun with the model selection from first command\n",
    "iqtree -s boundary_phylo.fasta -m GTR2+FO -pre bounds_mp_const_2 -g suvorov_sub_nv.newick -redo -o dana\n",
    "#to run with bootstrapping\n",
    "iqtree -s boundary_phylo.fasta -m GTR2+FO -pre bounds_mp_const_2 -g suvorov_sub_nv.newick -redo -o dana -bo 100"
   ]
  },
  {
   "cell_type": "markdown",
   "metadata": {},
   "source": [
    "suvorov_sub_nv.newick"
   ]
  },
  {
   "cell_type": "code",
   "execution_count": null,
   "metadata": {},
   "outputs": [],
   "source": [
    "(dana,(dtri,((((dbia,dtak),(((dere,dyak),(dsim,dmel)),deug)),dele),dfic)));"
   ]
  },
  {
   "cell_type": "markdown",
   "metadata": {},
   "source": [
    "### Use the following R script to find boundary evolution per mya "
   ]
  },
  {
   "cell_type": "markdown",
   "metadata": {},
   "source": [
    "Use this script first to subset the file _schemeA.newick_ from https://github.com/SchriderLab/drosophila_phylogeny/tree/master/tree"
   ]
  },
  {
   "cell_type": "code",
   "execution_count": null,
   "metadata": {},
   "outputs": [],
   "source": [
    "library(ape)\n",
    "library(treeio)\n",
    "library(tibble)\n",
    "library(dplyr)\n",
    "library(ggtree)\n",
    "#filter suvorov tree to have only 11 species#sat<-read.newick(\"schemeA.newick\")\n",
    "subtre<-tree_subset(sat,node=\"D_melanogaster\", levels_back=8)\n",
    "subtre_td<-as.treedata(subtre)\n",
    "to_drop<-c(\"D_parapallidosa\",\"D_parabipectinata\",\"D_bipectinata\",\"D_parabipectinata\",\"D_m_pallens\",\"D_malerkotliana_malerkotliana\",\"D_p_nigrens\",\"D_pseudoananassae_pseudoananassae\",\"D_ercepeae\",\"D_asahinai\",\"D_lacteicornis\",\"D_rufa\",\"D_tani\",\"D_aurauria\",\"D_pectinifera\",\"D_bakoue\",\"D_burlai\",\"D_sp_aff_chauvacae\",\"D_bocqueti\",\"D_nikananu\",\"D_seguyi\",\"D_vulcana\",\"D_jambulina\",\"D_birchii\",\"D_mayri\",\"D_truncata\",\"D_bunnanda\",\"D_serrata\",\"D_punjabiensis\",\"D_watanabei\",\"D_kikkawai\",\"D_leontia\",\"D_kanapiae\",\"D_subpulchrella\",\"D_suzukii\",\"D_orena\",\"D_teissieri_273_3\",\"D_mauritiana\",\"D_sechellia\",\"D_carrolli\",\"D_rhopaloa\",\"D_kurseongensis\",\"D_fuyamai\")\n",
    "subtest<-drop.tip(subtre,to_drop)\n",
    "write.nexus(subtest, file=\"suvorov_sub.nexus\", translate=TRUE)\n"
   ]
  },
  {
   "cell_type": "code",
   "execution_count": null,
   "metadata": {},
   "outputs": [],
   "source": [
    "library(ape)\n",
    "library(treeio)\n",
    "library(tibble)\n",
    "library(dplyr)\n",
    "library(ggtree)\n",
    "\n",
    "s<-read.newick(\"suvorov_sub_renamed.newick\")\n",
    "std<-as.treedata(s)\n",
    "d<-read.newick(\"RAxML_result.boundary_phylo_constrained\")\n",
    "std<-as.treedata(s)\n",
    "dtd<-as.treedata(d)\n",
    "stdt<-as_tibble(std)\n",
    "dtdt<-as_tibble(dtd)\n",
    "stdtc<-mutate(stdt,tmrca = branch.length)\n",
    "dtdtc<-mutate(dtdt,d_subs = branch.length)\n",
    "stdtct<-as.treedata(stdtc)\n",
    "dtdtct<-as.treedata(dtdtc)\n",
    "r<-root(dtdtct, outgroup=\"dana\")\n",
    "dtd<-as.treedata(r)\n",
    "dtdt<-as_tibble(dtd)\n",
    "dtdtc<-mutate(dtdt,d_subs = branch.length)\n",
    "dtdtct<-as.treedata(dtdtc)\n",
    "#merge1<-merge_tree(btdtct, dtdtct)\n",
    "merge<-merge_tree(stdtct, dtdtct)\n",
    "mta<-as_tibble(merge)\n",
    "write.jtree(merge)\n",
    "mta<-mutate(mta,d_subs_per_my=(d_subs*1025)/tmrca)\n",
    "write.table(mta, file=\"final_rate_table.txt\")"
   ]
  }
 ],
 "metadata": {
  "kernelspec": {
   "display_name": "Python 3",
   "language": "python",
   "name": "python3"
  },
  "language_info": {
   "codemirror_mode": {
    "name": "ipython",
    "version": 3
   },
   "file_extension": ".py",
   "mimetype": "text/x-python",
   "name": "python",
   "nbconvert_exporter": "python",
   "pygments_lexer": "ipython3",
   "version": "3.7.10"
  }
 },
 "nbformat": 4,
 "nbformat_minor": 4
}
