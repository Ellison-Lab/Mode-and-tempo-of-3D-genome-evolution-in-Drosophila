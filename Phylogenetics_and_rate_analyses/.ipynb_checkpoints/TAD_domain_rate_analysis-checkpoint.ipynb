{
 "cells": [
  {
   "cell_type": "markdown",
   "metadata": {},
   "source": [
    "### Turn Cytoscape (v 3.8.2) cluster output into binary fasta"
   ]
  },
  {
   "cell_type": "markdown",
   "metadata": {},
   "source": [
    "#### First run Snakefile_final rule __conserved_domains__ to make the \"{sample}\\_{sample2}\\_orth\\_orIDs.txt\" files.  \n",
    "#### Second concatenate (cat) all of these into `all_orthIDs.txt`\n",
    "Then input into __Cytoscape__."
   ]
  },
  {
   "cell_type": "code",
   "execution_count": null,
   "metadata": {},
   "outputs": [],
   "source": [
    "#cat -n louvain_all_orthIDs.csv | tail -1480 | sed -r 's/\"//g' - | sed -r 's/,/\\t/g' - | sed -r 's/d/\\t d/g' - > louvain_t_all"
   ]
  },
  {
   "cell_type": "code",
   "execution_count": 1,
   "metadata": {},
   "outputs": [],
   "source": [
    "species = [\"dmel\", \"dsim\", \"dtak\", \"deug\", \"dere\", \"dyak\", \"dbia\", \"dele\", \"dfic\", \"dtri\", \"dana\"]"
   ]
  },
  {
   "cell_type": "code",
   "execution_count": 2,
   "metadata": {},
   "outputs": [],
   "source": [
    "spc = [\">dmel\", \">dsim\", \">dtak\", \">deug\", \">dere\", \">dyak\", \">dbia\", \">dele\", \">dfic\", \">dtri\", \">dana\"]"
   ]
  },
  {
   "cell_type": "code",
   "execution_count": 3,
   "metadata": {},
   "outputs": [],
   "source": [
    "import numpy as np"
   ]
  },
  {
   "cell_type": "code",
   "execution_count": 4,
   "metadata": {},
   "outputs": [],
   "source": [
    "import sys"
   ]
  },
  {
   "cell_type": "code",
   "execution_count": 5,
   "metadata": {},
   "outputs": [],
   "source": [
    "import pandas as pd"
   ]
  },
  {
   "cell_type": "code",
   "execution_count": 6,
   "metadata": {},
   "outputs": [],
   "source": [
    "import os"
   ]
  },
  {
   "cell_type": "code",
   "execution_count": null,
   "metadata": {},
   "outputs": [],
   "source": [
    "#in shell\n",
    "bedtools intersect -wo -a dmel_TAD_coords.txt_t -b Kc_chromatin_states_r6_muller.bed | sort -k1,1b -k2,2n -k3,3n -k8,8b -k9,9n | bedtools groupby -g 1,2,3,4,8 -c 9 -o sum |sort -k1,1b -k2,2n -k3,3n -k6,6n| bedtools groupby -g 1,2,3,4 -c 5 -o last> dmel_TADs_chromatin.txt"
   ]
  },
  {
   "cell_type": "code",
   "execution_count": null,
   "metadata": {},
   "outputs": [],
   "source": [
    "#to create chromatin dictionary - FINAL\n",
    "f = open(\"louvain_t_all\", \"r\")\n",
    "z = open(\"dmel_TADs_chromatin.txt\", \"r\")\n",
    "dc = {}\n",
    "for line in z:\n",
    "    l = line.split(\"\\t\")\n",
    "    domain = str.strip(l[3])\n",
    "    did = l[0] + \"_\" + domain\n",
    "    dc[did] = l[4][0:3]"
   ]
  },
  {
   "cell_type": "code",
   "execution_count": 9,
   "metadata": {},
   "outputs": [],
   "source": [
    "#presence absence\n",
    "f = open(\"louvain_t_all\", \"r\")\n",
    "z = open(\"presense_absence_by_line.txt\", \"w\")\n",
    "r = open(\"TAD_ranks_chromatin.txt\", \"w\")\n",
    "array = []\n",
    "lc = -1\n",
    "for line in f:\n",
    "    msa = {}\n",
    "    l = line.split(\"\\t\")\n",
    "    #next for loop to find chromatin enrichment of TAD: run \"create chromatin dictionary\" first \n",
    "    for x in l:\n",
    "        n = x.strip()\n",
    "        if n[0:4] == \"dmel\":\n",
    "            dmid = str.strip(x)\n",
    "            chromatin = dc.get(dmid)\n",
    "    #print(dmid + str(chromatin))\n",
    "    temp = []\n",
    "    for i in l:\n",
    "        s = i.strip()\n",
    "        temp.append(s[0:4])\n",
    "    #print(temp)\n",
    "    for sp in species:\n",
    "        if sp in temp:\n",
    "            msa[sp] = 1\n",
    "        else:\n",
    "            msa[sp]= 0\n",
    "    line_array = []\n",
    "    for k,v in msa.items():  \n",
    "        line_array.append(v)\n",
    "        z.write(str(k) + \":\" + str(v) + \"\\t\")\n",
    "    #print(str(dmid) + \"\\t\"+ str(chromatin))\n",
    "    array.append(line_array)\n",
    "    #following 7 lines to keep track of TAD rank and chromatin\n",
    "    lc += 1\n",
    "    count = line_array.count(1)\n",
    "    if \"dmel\" in temp:\n",
    "        r.write(str(lc) + \"\\t\" + str(count) + \"\\t\" + str(chromatin) + \"\\n\")\n",
    "    else:\n",
    "        r.write(str(lc) + \"\\t\" + str(count) + \"\\t\" + \"no_dmel\" + \"\\n\")\n",
    "    z.write(\"\\n\")\n",
    "z.close()\n",
    "r.close()"
   ]
  },
  {
   "cell_type": "markdown",
   "metadata": {},
   "source": [
    "Run the following to split TADs into BLUE/BLACK enriched or YELLOW enriched only. Comment out lines 3 and 18 and comment in lines 4 and 17 to switch colors. "
   ]
  },
  {
   "cell_type": "code",
   "execution_count": null,
   "metadata": {},
   "outputs": [],
   "source": [
    "#presence absence\n",
    "f = open(\"louvain_t_all\", \"r\")\n",
    "z = open(\"presense_absence_by_line_yel.txt\", \"w\")\n",
    "#z = open(\"presense_absence_by_line_blu_bla.txt\", \"w\")\n",
    "array = []\n",
    "lc = -1\n",
    "dm = 0\n",
    "for line in f:\n",
    "    msa = {}\n",
    "    l = line.split(\"\\t\")\n",
    "    #next for loop to find chromatin enrichment of TAD: run \"create chromatin dictionary\" first \n",
    "    for x in l:\n",
    "        n = x.strip()\n",
    "        if n[0:4] == \"dmel\":\n",
    "            dmid = str.strip(x)\n",
    "            chromatin = dc.get(dmid)\n",
    "    #if chromatin == \"BLU\" or chromatin == \"BLA\":\n",
    "    if chromatin == \"YEL\":\n",
    "        #print(chromatin)\n",
    "        temp = []\n",
    "        for i in l:\n",
    "            s = i.strip()\n",
    "            temp.append(s[0:4])\n",
    "        if \"dmel\" in temp:\n",
    "                for sp in species:\n",
    "                    if sp in temp:\n",
    "                        msa[sp] = 1\n",
    "                    else:\n",
    "                        msa[sp]= 0\n",
    "                line_array = []\n",
    "                for k,v in msa.items():  \n",
    "                    line_array.append(v)\n",
    "                    z.write(str(k) + \":\" + str(v) + \"\\t\")\n",
    "                #print(str(dmid) + \"\\t\"+ str(chromatin))\n",
    "                array.append(line_array)\n",
    "                z.write(\"\\n\")\n",
    "    #following 7 lines to keep track of TAD rank and chromatin\n",
    "    lc += 1\n",
    "    count = line_array.count(1)\n",
    "    #if \"dmel\" in temp:\n",
    "    #    r.write(str(lc) + \"\\t\" + str(count) + \"\\t\" + str(chromatin) + \"\\n\")\n",
    "    #else:\n",
    "    #    r.write(str(lc) + \"\\t\" + str(count) + \"\\t\" + \"no_dmel\" + \"\\n\")\n",
    "z.close()\n",
    "#r.close()"
   ]
  },
  {
   "cell_type": "code",
   "execution_count": 39,
   "metadata": {},
   "outputs": [],
   "source": [
    "#following 3 cells to turn presence absense matrix to binary fasta"
   ]
  },
  {
   "cell_type": "code",
   "execution_count": 65,
   "metadata": {},
   "outputs": [],
   "source": [
    "a = np.asarray(array)\n",
    "b = a.transpose()\n",
    "df = pd.DataFrame(b)"
   ]
  },
  {
   "cell_type": "code",
   "execution_count": 59,
   "metadata": {},
   "outputs": [],
   "source": [
    "#for fasta format\n",
    "df.insert(loc=0, column = 'sp', value=spc)\n",
    "df.to_csv(\"tad_phylo.txt\",index=False, sep =' ')\n",
    "#df.to_csv(\"tad_phylo_yel.txt\",index=False, sep =' ')\n",
    "#df.to_csv(\"tad_phylo_blue_black.txt\",index=False, sep =' ')"
   ]
  },
  {
   "cell_type": "markdown",
   "metadata": {},
   "source": [
    "### Use IQ-TREE to create phylogenetic tree from boundary fasta"
   ]
  },
  {
   "cell_type": "markdown",
   "metadata": {},
   "source": [
    "IQ-TREE v. 2.1.4"
   ]
  },
  {
   "cell_type": "code",
   "execution_count": null,
   "metadata": {},
   "outputs": [],
   "source": [
    "iqtree -s ../novogene_deep_HiC/orth_domain_cluster_analysis/tad_phylo.fasta -pre tad_phylo_gtr2foi -g suvorov_sub_nv.newick -m MFP -o dana\n",
    "#rerun with the model selection from first command\n",
    "iqtree -s ../novogene_deep_HiC/orth_domain_cluster_analysis/tad_phylo.fasta -pre tad_phylo_gtr2foi -g suvorov_sub_nv.newick -redo -m GTR2+FO+I -o dana\n",
    "#to run with bootstrapping\n",
    "iqtree -s ../novogene_deep_HiC/orth_domain_cluster_analysis/tad_phylo.fasta -pre tad_phylo_gtr2foi -g suvorov_sub_nv.newick -redo -m GTR2+FO+I -o dana -bo 100"
   ]
  },
  {
   "cell_type": "markdown",
   "metadata": {},
   "source": [
    "To run bootstrap replicates to create trees using only BLUE/BLACK enriched TADs and YELLOW enriched TADs"
   ]
  },
  {
   "cell_type": "code",
   "execution_count": null,
   "metadata": {},
   "outputs": [],
   "source": [
    "iqtree -s ../novogene_deep_HiC/tad_phylo_yel.txt -pre tad_phylo_gtr2foi -g suvorov_sub_nv.newick -redo -m GTR2+FO+I -o dana -bo 100\n",
    "iqtree -s ../novogene_deep_HiC/tad_phylo_blue_black.txt -pre tad_phylo_gtr2foi -g suvorov_sub_nv.newick -redo -m GTR2+FO+I -o dana -bo 100"
   ]
  },
  {
   "cell_type": "markdown",
   "metadata": {},
   "source": [
    "suvorov_sub_nv.newick"
   ]
  },
  {
   "cell_type": "code",
   "execution_count": null,
   "metadata": {},
   "outputs": [],
   "source": [
    "(dana,(dtri,((((dbia,dtak),(((dere,dyak),(dsim,dmel)),deug)),dele),dfic)));"
   ]
  },
  {
   "cell_type": "markdown",
   "metadata": {},
   "source": [
    "### Use the following R script to find boundary evolution per mya "
   ]
  },
  {
   "cell_type": "code",
   "execution_count": null,
   "metadata": {},
   "outputs": [],
   "source": [
    "Use this script first to subset the file _schemeA.newick_ from https://github.com/SchriderLab/drosophila_phylogeny/tree/master/tree"
   ]
  },
  {
   "cell_type": "code",
   "execution_count": null,
   "metadata": {},
   "outputs": [],
   "source": [
    "library(ape)\n",
    "library(treeio)\n",
    "library(tibble)\n",
    "library(dplyr)\n",
    "library(ggtree)\n",
    "filter suvorov tree to have only 11 species#sat<-read.newick(\"schemeA.newick\")\n",
    "subtre<-tree_subset(sat,node=\"D_melanogaster\", levels_back=8)\n",
    "subtre_td<-as.treedata(subtre)\n",
    "to_drop<-c(\"D_parapallidosa\",\"D_parabipectinata\",\"D_bipectinata\",\"D_parabipectinata\",\"D_m_pallens\",\"D_malerkotliana_malerkotliana\",\"D_p_nigrens\",\"D_pseudoananassae_pseudoananassae\",\"D_ercepeae\",\"D_asahinai\",\"D_lacteicornis\",\"D_rufa\",\"D_tani\",\"D_aurauria\",\"D_pectinifera\",\"D_bakoue\",\"D_burlai\",\"D_sp_aff_chauvacae\",\"D_bocqueti\",\"D_nikananu\",\"D_seguyi\",\"D_vulcana\",\"D_jambulina\",\"D_birchii\",\"D_mayri\",\"D_truncata\",\"D_bunnanda\",\"D_serrata\",\"D_punjabiensis\",\"D_watanabei\",\"D_kikkawai\",\"D_leontia\",\"D_kanapiae\",\"D_subpulchrella\",\"D_suzukii\",\"D_orena\",\"D_teissieri_273_3\",\"D_mauritiana\",\"D_sechellia\",\"D_carrolli\",\"D_rhopaloa\",\"D_kurseongensis\",\"D_fuyamai\")\n",
    "subtest<-drop.tip(subtre,to_drop)\n",
    "write.nexus(subtest, file=\"suvorov_sub.nexus\", translate=TRUE)"
   ]
  },
  {
   "cell_type": "code",
   "execution_count": null,
   "metadata": {},
   "outputs": [],
   "source": [
    "s<-read.newick(\"suvorov_sub_renamed.newick\")\n",
    "std<-as.treedata(s)\n",
    "d<-read.newick(\"raxml_domain_constrained.newick\")\n",
    "dtdr <- reroot(d,4)\n",
    "std<-as.treedata(s)\n",
    "dtd<-as.treedata(dtdr)\n",
    "stdt<-as_tibble(std)\n",
    "dtdt<-as_tibble(dtdr)\n",
    "stdtc<-mutate(stdt,tmrca = branch.length)\n",
    "dtdtc<-mutate(dtdt,d_subs = branch.length)\n",
    "stdtct<-as.treedata(stdtc)\n",
    "dtdtct<-as.treedata(dtdtc)\n",
    "merge_all<-merge_tree(stdtct, dtdtct)\n",
    "mta<-as_tibble(merge_all)\n",
    "write.jtree(merge)\n",
    "mta<-mutate(mta,d_subs_per_my=(d_subs*1480)/tmrca)\n",
    "write.table(mta, file=\"final_rate_table.txt\")"
   ]
  },
  {
   "cell_type": "markdown",
   "metadata": {},
   "source": [
    "R script for bootstrap trees"
   ]
  },
  {
   "cell_type": "code",
   "execution_count": null,
   "metadata": {},
   "outputs": [],
   "source": [
    "library(ape)\n",
    "library(treeio)\n",
    "library(tibble)\n",
    "library(dplyr)\n",
    "r<-readLines(\"trees.boottrees\")\n",
    "for (n in r){\n",
    "d<-read.newick(text=n)\n",
    "dtd<-as.treedata(d)\n",
    "dtdt<-as_tibble(dtd)\n",
    "dtdtc<-mutate(dtdt,d_subs = branch.length)\n",
    "dtdtct<-as.treedata(dtdtc)\n",
    "r<-root(dtdtct, outgroup=\"dana\")\n",
    "dtd<-as.treedata(r)\n",
    "dtdt<-as_tibble(dtd)\n",
    "dtdtc<-mutate(dtdt,d_subs = branch.length)\n",
    "dtdtct<-as.treedata(dtdtc)\n",
    "#merge1<-merge_tree(btdtct, dtdtct)\n",
    "#merge<-merge_tree(stdtct, dtdtct)\n",
    "mta<-as_tibble(dtdtct)\n",
    "mta[is.na(mta)]<-0\n",
    "#write.jtree(merge)\n",
    "#mta<-mutate(mta,d_subs_per_my=(d_subs*1480)/tmrca)\n",
    "subs_sum<-sum(mta$d_subs)\n",
    "rate<-(subs_sum/156.513)\n",
    "write(subs_sum, file=\"subs_sums.txt\", append=TRUE)\n",
    "write(rate, file=\"subs_rates.txt\", append=TRUE)}\n",
    "#mta_rm<-select(mta,-branch.length)\n",
    "#mta_b_subs<-mutate(mta_rm,branch.length=b_subs_per_my)\n",
    "#keep<-c('parent','node','label','branch.length')\n",
    "#mta_b_subs_tree<-as.treedata(select(mta_b_subs,keep))\n",
    "#ggtree(mta_b_subs_tree) + geom_tiplab(as_ylab=TRUE) +geom_text(aes(label=mta$b_subs_per_my), size =2, vjust=-.3)\n",
    "#mta_d_subs<-mutate(mta_rm,branch.length=d_subs_per_my)\n"
   ]
  },
  {
   "cell_type": "markdown",
   "metadata": {},
   "source": [
    "### Run the following script to create _domain_by_rank.txt_ for `Snakefile_ME`"
   ]
  },
  {
   "cell_type": "code",
   "execution_count": null,
   "metadata": {},
   "outputs": [],
   "source": [
    "f = open(\"louvain_t_all\", \"r\")\n",
    "r = open(\"domain_by_rank.txt\", \"w\")\n",
    "array = []\n",
    "lc = -1\n",
    "for line in f:\n",
    "    msa = {}\n",
    "    l = line.split(\"\\t\")\n",
    "    #next for loop to find chromatin enrichment of TAD: run \"create chromatin dictionary\" first \n",
    "    for x in l:\n",
    "        n = x.strip()\n",
    "        if n[0:4] == \"dmel\":\n",
    "            dmid = str.strip(x)\n",
    "            #print(n)\n",
    "    #print(dmid + str(chromatin))\n",
    "    temp = []\n",
    "    domain_ids = []\n",
    "    for i in l:\n",
    "        s = i.strip()\n",
    "        temp.append(s[0:4])\n",
    "        if s[0:4] in species:\n",
    "            domain_ids.append(s)\n",
    "    print(temp)\n",
    "    print(domain_ids)\n",
    "    for sp in species:\n",
    "        if sp in temp:\n",
    "            msa[sp] = 1\n",
    "        else:\n",
    "            msa[sp]= 0\n",
    "    line_array = []\n",
    "    for k,v in msa.items():  \n",
    "        line_array.append(v)\n",
    "        #print(str(k) + \":\" + str(v) + \"\\t\")\n",
    "    #print(str(dmid) + \"\\t\"+ str(chromatin))\n",
    "    array.append(line_array)\n",
    "    #following 7 lines to keep track of TAD rank and chromatin\n",
    "    lc += 1\n",
    "    count = line_array.count(1)\n",
    "    #print(temp)\n",
    "    for i in domain_ids:\n",
    "        r.write(str(i) + \"\\t\" + str(count) + \"\\n\")\n",
    "r.close()"
   ]
  },
  {
   "cell_type": "markdown",
   "metadata": {},
   "source": [
    "### Run the following script to create _dmel_TAD_coords.txt_ for `Snakefile_ME`"
   ]
  },
  {
   "cell_type": "markdown",
   "metadata": {},
   "source": [
    "_dmel_domains_all_ID.bed_ from rule `domains`in Snakefile_final"
   ]
  },
  {
   "cell_type": "code",
   "execution_count": null,
   "metadata": {},
   "outputs": [],
   "source": [
    "dd = {}\n",
    "all = open(\"../merged_domains/dmel_domains_all_ID.bed\", \"r\")\n",
    "for line in all:\n",
    "    l = line.strip().split(\"\\t\")\n",
    "    c2 = l[3].strip(\"\\n\")\n",
    "    bid = str(l[0]) + \"_\" + str(c2)\n",
    "    c_c = str(l[1]) + \"_\" + str(l[2])\n",
    "    k = str(l[0])\n",
    "    dd[bid] = c_c"
   ]
  },
  {
   "cell_type": "code",
   "execution_count": null,
   "metadata": {},
   "outputs": [],
   "source": [
    "f = open(\"louvain_t_all\", \"r\")\n",
    "z = open(\"dmel_TAD_coords.txt\", \"w\")\n",
    "array = []\n",
    "for line in f:\n",
    "    msa = {}\n",
    "    l = line.split(\"\\t\")\n",
    "    #print(l)\n",
    "    temp = []\n",
    "    for i in l:\n",
    "        n = i.strip()\n",
    "        if n[0:4] == \"dmel\":\n",
    "            s = str.strip(n)\n",
    "            coords = dd.get(s)\n",
    "            start_stop = coords.split(\"_\")\n",
    "            m = i.split(\"_\")\n",
    "            dib = m[0].strip()\n",
    "            #print(str(i) + \"\\t\" + start_stop[0] + \"\\t\" + start_stop[1] )\n",
    "            z.write(str(dib) + \"_\" + str(m[1]) + \"_\" + str(m[2]) + \"\\t\" + start_stop[0] + \"\\t\" + start_stop[1] + \"\\t\" + str(m[3]) + \"_\" + str(m[4]) + \"\\n\")\n",
    "z.close()"
   ]
  }
 ],
 "metadata": {
  "kernelspec": {
   "display_name": "Python 3",
   "language": "python",
   "name": "python3"
  },
  "language_info": {
   "codemirror_mode": {
    "name": "ipython",
    "version": 3
   },
   "file_extension": ".py",
   "mimetype": "text/x-python",
   "name": "python",
   "nbconvert_exporter": "python",
   "pygments_lexer": "ipython3",
   "version": "3.7.10"
  }
 },
 "nbformat": 4,
 "nbformat_minor": 4
}
