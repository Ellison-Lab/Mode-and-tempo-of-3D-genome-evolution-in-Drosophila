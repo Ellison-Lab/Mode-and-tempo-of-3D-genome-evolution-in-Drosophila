{
 "cells": [
  {
   "cell_type": "markdown",
   "id": "peripheral-education",
   "metadata": {},
   "source": [
    "### Repeatmasker and Cactus scripts\n",
    "\n",
    "__Versions__  \n",
    "HiC explorer: 3.6     \n",
    "gcc: 5.4  \n",
    "halLiftover: 2.1  \n",
    "bedtools: 2.29.0  \n",
    "GNU Awk: 4.0.2    \n",
    "join (GNU coreutils): 8.22  \n",
    "sort (GNU coreutils): 8.22\n",
    "\n",
    "Repeatmasker 4.0.9   \n",
    "Perl: 5.26.2  \n",
    "Perl-text-soundex: 3.05   \n",
    "RM_Blast: 2.9.0  \n",
    "TRF: 4.0.9  \n",
    "RepeatDatabase: RepBase\n",
    "\n",
    "Cactus: original. \n",
    "Python: 2.7  \n",
    "Singularity: 2.7.12  "
   ]
  },
  {
   "cell_type": "markdown",
   "id": "drawn-filename",
   "metadata": {},
   "source": [
    "#### Repeatmasker:\n",
    "Softmask repetitive regions"
   ]
  },
  {
   "cell_type": "code",
   "execution_count": null,
   "id": "united-puzzle",
   "metadata": {},
   "outputs": [],
   "source": [
    "#!/bin/bash\n",
    "\n",
    "#SBATCH --partition=main             # Partition (job queue)\n",
    "#SBATCH --requeue                    # Return job to the queue if preempted\n",
    "#SBATCH --job-name=repmask          # Assign an short name to your job\n",
    "#SBATCH --nodes=1                    # Number of nodes you require\n",
    "#SBATCH --ntasks=1                  # Total # of tasks across all nodes\n",
    "#SBATCH --cpus-per-task=28            # Cores per task (>1 if multithread tasks)\n",
    "#SBATCH --mem=150G                 # Real memory (RAM) required (MB)\n",
    "#SBATCH --time=72:00:00              # Total run time limit (HH:MM:SS)\n",
    "#SBATCH --output=slurm.%N.%j.out     # STDOUT output fil\n",
    "#SBATCH --error=slurm.%N.%j.err      # STDERR output file (optional)\n",
    "#SBATCH --export=ALL                 # Export you current env to the job env\n",
    "#SBATCH --array=1-3\n",
    "\n",
    "perl /RepeatMasker/RepeatMasker DROSOPHILA_SPECIES_REFERENCE_SEQUENCE.fasta -species drosophila -xsmall"
   ]
  },
  {
   "cell_type": "markdown",
   "id": "indirect-reception",
   "metadata": {},
   "source": [
    "#### Cactus:\n",
    "Align genomes. Produce .hal output file\n",
    "\n",
    "Input softmasked files:"
   ]
  },
  {
   "cell_type": "code",
   "execution_count": null,
   "id": "about-shower",
   "metadata": {},
   "outputs": [],
   "source": [
    "#!/bin/bash\n",
    "#SBATCH -p ellison_1\n",
    "#SBATCH -c 4\n",
    "#SBATCH -N 1\n",
    "#SBATCH -n 1\n",
    "#SBATCH --mem=200G\n",
    "#SBATCH -M amarel\n",
    "#SBATCH -t 32:00:00\n",
    "\n",
    "USER=\n",
    "\n",
    "srun hostname\n",
    "\n",
    "srun date\n",
    "ml\n",
    "module load singularity python/2.7.12\n",
    "ml\n",
    "rm -rf /scratch/$USER/singularity_temp/*\n",
    "\n",
    "\n",
    "cd /scratch/nt365/oarc/cactus\n",
    "\n",
    "\n",
    "source cactus_oarc/bin/activate\n",
    "which cactus\n",
    "\n",
    "toil clean /scratch/$USER/singularity_temp/jobStore\n",
    "\n",
    "export SINGULARITY_CACHEDIR=/scratch/$USER/singularity_temp\n",
    "export SINGULARITY_TMPDIR=/scratch/$USER/singularity_temp\n",
    "export TOIL_WORKDIR=/scratch/$USER/singularity_temp\n",
    "\n",
    "env | grep singularity_temp\n",
    "pip list  #print the current python packages\n",
    "\n",
    "cactus /scratch/$USER/singularity_temp/jobStore drosophila.txt drosophila.hal --binariesMode singularity"
   ]
  },
  {
   "cell_type": "markdown",
   "id": "cubic-schema",
   "metadata": {},
   "source": [
    "drosophila.txt file below"
   ]
  },
  {
   "cell_type": "code",
   "execution_count": null,
   "id": "geological-carroll",
   "metadata": {},
   "outputs": [],
   "source": [
    "(((((Dananassae:0.03031):0.12020,(Dtriauroria:0.11359,(((Delegans:0.04764):0.02074,(((Dbiarmipes:0.03211):0.02078,Dtakahashii:0.04975)0.51:0.01395,(Deugracilis:0.06737,((Derecta:0.02649,Dyakuba:0.02523)0.55:0.00712,(Dmelanogaster:0.01607,(Dsimulans:0.00587):0.01020)0.83:0.02359)0.87:0.04681)0.24:0.00682)0.34:0.01194)0.23:0.00831,Dficusphila:0.07084)0.77:0.05049)0.58:0.03561)0.78:0.07868)0.69:0.06748)0.54:0.05153);\n",
    "\n",
    "Dananassae /scratch/nt365/repeatmasked/dana_fasta/dana_muller_o.fasta.masked\n",
    "Dtriauroria /scratch/nt365/repeatmasked/batch/3_muller_o.fasta.masked\n",
    "Delegans /scratch/nt365/repeatmasked/batch/2_muller_o.fasta.masked\n",
    "Dbiarmipes /scratch/nt365/repeatmasked/dbia/dbia_muller_o.fasta.masked\n",
    "Dtakahashii /scratch/nt365/repeatmasked/batch/1_muller_o.fasta.masked\n",
    "Deugracilis /scratch/nt365/repeatmasked/deug/deug_muller_o.fasta.masked\n",
    "Derecta /scratch/nt365/repeatmasked/dere/dere_muller_o.fasta.masked\n",
    "Dyakuba /scratch/nt365/repeatmasked/dyak/dyak_muller_o.fasta.masked\n",
    "Dmelanogaster /scratch/nt365/repeatmasked/dmel/dmel-all-chromosome-r6.22_extract_ABCDEF.fasta.masked \n",
    "Dsimulans /scratch/nt365/repeatmasked/dsim/dsim_muller_o.fasta.masked\n",
    "Dficusphila /scratch/nt365/repeatmasked/dfic_new/dfic_muller_o.fasta.masked"
   ]
  }
 ],
 "metadata": {
  "kernelspec": {
   "display_name": "Python 3",
   "language": "python",
   "name": "python3"
  },
  "language_info": {
   "codemirror_mode": {
    "name": "ipython",
    "version": 3
   },
   "file_extension": ".py",
   "mimetype": "text/x-python",
   "name": "python",
   "nbconvert_exporter": "python",
   "pygments_lexer": "ipython3",
   "version": "3.7.10"
  }
 },
 "nbformat": 4,
 "nbformat_minor": 5
}
