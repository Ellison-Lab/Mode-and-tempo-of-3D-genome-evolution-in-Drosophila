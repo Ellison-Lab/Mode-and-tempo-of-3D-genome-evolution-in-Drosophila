{
 "cells": [
  {
   "cell_type": "markdown",
   "id": "convenient-optimum",
   "metadata": {},
   "source": [
    "##### To create \"dmel_coords_with_fbid.txt\" to find LS TAD domains below"
   ]
  },
  {
   "cell_type": "code",
   "execution_count": null,
   "id": "another-median",
   "metadata": {},
   "outputs": [],
   "source": [
    "f = open(\"dmel.gff\", \"r\")\n",
    "o = open(\"dmel_coords_with_fbid.txt\", \"w\")\n",
    "for line in f:\n",
    "    l = line.split()\n",
    "    try:\n",
    "        t = l[8].split(\";\")\n",
    "    except IndexError:\n",
    "        continue\n",
    "    try:\n",
    "        x = t[2].split(\"=\")\n",
    "        r = t[0].split(\"=\")\n",
    "    except IndexError:\n",
    "        continue\n",
    "    o.write(l[0] + \"\\t\" + l[3] + \"\\t\" + l[4] + \"\\t\" + x[1] + \"\\n\")\n",
    "o.close()\n",
    "f.close()"
   ]
  },
  {
   "cell_type": "markdown",
   "id": "hairy-fireplace",
   "metadata": {},
   "source": [
    "__Commands to find Lineage Specific TAD domains and merge with other TADs__\n",
    "\n",
    "In shell"
   ]
  },
  {
   "cell_type": "code",
   "execution_count": null,
   "id": "illegal-person",
   "metadata": {},
   "outputs": [],
   "source": [
    "#to prep, files in Orthofinder.ipynb\n",
    "cat dmel_coords_with_fbid.txt | sort -k4b,4 > dmel_coords_with_fbid.fbid_sorted.txt\n",
    "join -1 2 -2 4 dmel_orthID_fbid dmel_coords_with_fbid.fbid_sorted.txt |awk '{print $3\"\\t\"$4\"\\t\"$5\"\\t\"$1\"\\t\"$2}' > dmel_coords_with_fbid_orthID\n",
    "#using concatenated file all_orthIDs.txt from TAD_domain_rate_analysis.ipynb\n",
    " cat all_orthIDs.txt | tr \"\\t\" \"\\n\" > all_orthIDs_list.txt\n",
    "cat *_domains_hc.bed |awk '{print $1\"_\"$4}' > all_hc_domains\n",
    "cat *_domains_hc.bed |awk '{print $1\"\\t\"$2\"\\t\"$3\"\\t\"$1\"_\"$4}' > all_hc_domains_with_coords\n",
    "grep -v -f all_orthIDs_list.txt all_hc_domains > lineage_specific_tads\n",
    "grep -v -f all_orthIDs_list.txt all_hc_domains_with_coords > lineage_specific_tads_with_coords\n",
    "awk '{print $1\"\\t\"1}' lineage_specific_tads | grep \"dmel\" > lineage_specific_tads_with_rank_dmel\n",
    "cat ../final_rerun/domain_summaries/domain_by_rank.txt | grep \"dmel\" > dmel_domains_by_rank.txt\n",
    "#to check for duplicates, none found for dmel\n",
    "cat lineage_specific_tads_with_rank_dmel dmel_domains_by_rank.txt | cut -f 1 | sort | uniq -c | awk '$1!=1'\n",
    "cat lineage_specific_tads_with_rank_dmel dmel_domains_by_rank.txt > dmel_domains_by_rank_wLS.txt"
   ]
  },
  {
   "cell_type": "markdown",
   "id": "furnished-express",
   "metadata": {},
   "source": [
    "In shell   \n",
    "use _SingleCopyOrthologous_GeneList.tsv_ from __Orthofinder.ipynb__       \n",
    "use _dmel_TAD_coords_ from __TAD_domain_rate_analysis.ipynb__\n",
    "\n",
    "For __GOrilla__ analysis, input the FBpp_rank_unique file "
   ]
  },
  {
   "cell_type": "code",
   "execution_count": null,
   "id": "harmful-repository",
   "metadata": {},
   "outputs": [],
   "source": [
    "cat dmel_TAD_coords.txt | awk '{print $1\"_\"$4\"\\t\"$2\"\\t\"$3}'| sort -k1,1b > dmel_TAD_coords.txt.sorted\n",
    "bedtools intersect -wo -a dmel_TAD_coords.txt -b Kc_chromatin_states_r6_ME.sorted.bed | sort -k1,1b -k2,2n -k3,3n -k8,8b -k9,9n | bedtools groupby -g 1,2,3,4,8 -c 9 -o sum | sort -k1,1b -k2,2n -k3,3n -k6,6n| bedtools groupby -g 1,2,3,4 -c 5 -o last |sort -k4b,4 > dmel_TADs_by_chromatin.bed\n",
    "bedtools intersect -wo -a lineage_specific_tads_with_coords_dmel -b Kc_chromatin_states_r6_ME.sorted.bed | sort -k1,1b -k2,2n -k3,3n -k8,8b -k9,9n |sort -k1,1b -k2,2n -k3,3n -k8,8b -k9,9n | bedtools groupby -g 1,2,3,4,8 -c 9 -o sum |sort -k1,1b -k2,2n -k3,3n -k6,6n| bedtools groupby -g 1,2,3,4 -c 5 -o last | sort -k4b,4> dmel_LS_TADs_by_chromatin.bed\n",
    "cat dmel_TADs_by_chromatin_ID.bed dmel_LS_TADs_by_chromatin.bed | sort -k4b,4 > dmel_allTADs_by_chromatin.bed \n",
    "#checked that no domains in LS and nonLS are repeats\n",
    "join -1 4 -2 2 dmel_coords_with_fbid.fbid_sorted.txt dmel_orthID_fbid | awk '{print $2\"\\t\"$3\"\\t\"$4\"\\t\"$1\"\\t\"/$5}'> dmel_coords_fbid_orthID\n",
    "bedtools intersect -wa -wb -a dmel_allTADs_by_chromatin.bed -b dmel_coords_fbid_orthID | awk '{print $1\"\\t\"$2\"\\t\"$3\"\\t\"$4\"\\t\"$7\"\\t\"$8\"\\t\"$10\"\\t\"$5\"\\t\"$9}' > dmel_TADs_by_chromatin\n",
    "cat dmel_TADs_by_chromatin | cut -f 7 | sort | uniq -c | awk '$1!=1' | awk '{lesprint $2}' > dmel_TADs_by_chromatin_duplicates\n",
    "grep -v -f dmel_TADs_by_chromatin_duplicates dmel_TADs_by_chromatin > dmel_TADs_by_chromatin_genes_nd\n",
    "join -1 4 -2 1  dmel_allTADs_by_chromatin.bed dmel_domains_by_rank_wLS.txt  | awk '{print $1\"\\t\"$2\"\\t\"$3\"\\t\"$4\"\\t\"$5\"\\t\"$6}' > dmel_allTADs_by_chromatin_with_rankpp\n",
    "join -1 1 -2 4 dmel_domains_by_rank_wLS.txt dmel_TADs_by_chromatin_genes_nd | awk '{print $10\"\\t\"$2}' > FBpp_rank\n",
    "cat FBpp_rank | sort | uniq > FBpp_rank_unique"
   ]
  },
  {
   "cell_type": "markdown",
   "id": "c8c008ae",
   "metadata": {},
   "source": [
    "Use _all_orth_data.txt_ from __Snakefile_gene_expression_ output"
   ]
  },
  {
   "cell_type": "code",
   "execution_count": null,
   "id": "7a98919f",
   "metadata": {},
   "outputs": [],
   "source": [
    "cut -f 14,25 all_ortho_data.txt | sort -k1,1b > fbpp_log2SD\n",
    "sort -k9,9b dmel_TADs_by_chromatin > dmel_TADs_by_chromatin_9.27.sorted\n",
    "join -1 9 -2 1 dmel_TADs_by_chromatin_9.27.sorted fbpp_log2SD | awk '{print $5\"\\t\"$9\"\\t\"$1\"\\t\"$10}' | sort -k1,1n | bedtools groupby -g 1,2 -c 4 -o mean > TAD_chromatin_gene_log2SD_mean"
   ]
  },
  {
   "cell_type": "markdown",
   "id": "colonial-language",
   "metadata": {},
   "source": [
    "To summarize chromatin state, rank, and log2SD mean for each domain"
   ]
  },
  {
   "cell_type": "code",
   "execution_count": null,
   "id": "continuous-lingerie",
   "metadata": {},
   "outputs": [],
   "source": [
    "cat dmel_allTADs_by_chromatin_with_rank | awk '{print $1\"\\t\"$6}' | sort -k 1,1b > TAD_by_rank.sorted \n",
    "cat TAD_chromatin_gene_log2SD_mean | sort -k 1,1b > TAD_chromatin_gene_log2SD_mean.sorted\n",
    "join -1 1 -2 1 TAD_chromatin_gene_log2SD_mean.sorted TAD_by_rank.sorted | awk '{print $1\"\\t\"$2\"\\t\"$4\"\\t\"$3}'> TAD_chromatin_gene_log2SD_mean_rank"
   ]
  }
 ],
 "metadata": {
  "kernelspec": {
   "display_name": "Python 3",
   "language": "python",
   "name": "python3"
  },
  "language_info": {
   "codemirror_mode": {
    "name": "ipython",
    "version": 3
   },
   "file_extension": ".py",
   "mimetype": "text/x-python",
   "name": "python",
   "nbconvert_exporter": "python",
   "pygments_lexer": "ipython3",
   "version": "3.7.10"
  }
 },
 "nbformat": 4,
 "nbformat_minor": 5
}
