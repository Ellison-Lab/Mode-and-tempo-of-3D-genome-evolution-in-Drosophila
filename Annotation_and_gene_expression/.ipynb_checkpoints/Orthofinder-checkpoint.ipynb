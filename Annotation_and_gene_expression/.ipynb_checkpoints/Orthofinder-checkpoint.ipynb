{
 "cells": [
  {
   "cell_type": "markdown",
   "id": "light-second",
   "metadata": {},
   "source": [
    "### Orthologous genes\n",
    "\n",
    "Orthofinder (v. 2.5.2 )"
   ]
  },
  {
   "cell_type": "markdown",
   "id": "raised-channels",
   "metadata": {},
   "source": [
    "__Download the following protein reference sequences, rename to species name, and place into folder__\n",
    "\n",
    "Dere:https://ftp.ncbi.nlm.nih.gov/genomes/all/GCF/003/286/155/GCF_003286155.1_DereRS2/GCF_003286155.1_DereRS2_protein.faa.gz       \n",
    "Dana: https://ftp.ncbi.nlm.nih.gov/genomes/all/GCF/003/285/975/GCF_003285975.2_DanaRS2.1/GCF_003285975.2_DanaRS2.1_protein.faa.gz        \n",
    "Dyak:https://ftp.ncbi.nlm.nih.gov/genomes/all/GCF/016/746/365/GCF_016746365.2_Prin_Dyak_Tai18E2_2.1/GCF_016746365.2_Prin_Dyak_Tai18E2_2.1_protein.faa.gz         \n",
    "Dtak: https://ftp.ncbi.nlm.nih.gov/genomes/all/GCF/000/224/235/GCF_000224235.1_Dtak_2.0/GCF_000224235.1_Dtak_2.0_protein.faa.gz         \n",
    "Dbia: https://ftp.ncbi.nlm.nih.gov/genomes/all/GCF/000/233/415/GCF_000233415.1_Dbia_2.0/GCF_000233415.1_Dbia_2.0_protein.faa.gz\n",
    "Dsim: https://ftp.ncbi.nlm.nih.gov/genomes/all/GCF/016/746/395/GCF_016746395.1_Prin_Dsim_3.0/GCF_016746395.1_Prin_Dsim_3.0_protein.faa.gz        \n",
    "Deug: https://ftp.ncbi.nlm.nih.gov/genomes/all/GCF/018/153/835/GCF_018153835.1_ASM1815383v1/GCF_018153835.1_ASM1815383v1_protein.faa.gz         \n",
    "Dfic: https://ftp.ncbi.nlm.nih.gov/genomes/all/GCF/018/152/265/GCF_018152265.1_ASM1815226v1/GCF_018152265.1_ASM1815226v1_protein.faa.gz           \n",
    "Dmel:https://ftp.ncbi.nlm.nih.gov/genomes/all/GCF/000/001/215/GCF_000001215.4_Release_6_plus_ISO1_MT/GCF_000001215.4_Release_6_plus_ISO1_MT_protein.faa.gz        \n",
    "Dele:https://ftp.ncbi.nlm.nih.gov/genomes/all/GCF/018/152/505/GCF_018152505.1_ASM1815250v1/GCF_018152505.1_ASM1815250v1_protein.faa.gz\n"
   ]
  },
  {
   "cell_type": "markdown",
   "id": "static-check",
   "metadata": {},
   "source": [
    "For _D. triauraria_ use the gff in the folder, theis reference: https://ftp.ncbi.nlm.nih.gov/genomes/all/GCA/014/170/255/GCA_014170255.2_RU_Dtri_1.1/GCA_014170255.2_RU_Dtri_1.1_genomic.fna.gz\n",
    "and the following command to make the .faa. "
   ]
  },
  {
   "cell_type": "code",
   "execution_count": null,
   "id": "personal-cisco",
   "metadata": {},
   "outputs": [],
   "source": [
    "gffread -y dtri.faa -g GCA_014170255.2_RU_Dtri_1.1_genomic.fna allME_merged.gff"
   ]
  },
  {
   "cell_type": "code",
   "execution_count": null,
   "id": "adopted-dover",
   "metadata": {},
   "outputs": [],
   "source": []
  },
  {
   "cell_type": "code",
   "execution_count": null,
   "id": "involved-warrior",
   "metadata": {},
   "outputs": [],
   "source": []
  }
 ],
 "metadata": {
  "kernelspec": {
   "display_name": "Python 3",
   "language": "python",
   "name": "python3"
  },
  "language_info": {
   "codemirror_mode": {
    "name": "ipython",
    "version": 3
   },
   "file_extension": ".py",
   "mimetype": "text/x-python",
   "name": "python",
   "nbconvert_exporter": "python",
   "pygments_lexer": "ipython3",
   "version": "3.7.10"
  }
 },
 "nbformat": 4,
 "nbformat_minor": 5
}
