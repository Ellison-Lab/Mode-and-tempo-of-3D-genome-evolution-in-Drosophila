{
 "cells": [
  {
   "cell_type": "markdown",
   "metadata": {},
   "source": [
    "### Repeatmasker\n",
    "\n",
    "Versions:  \n",
    "Perl: 5.26.2  \n",
    "Perl-text-soundex: 3.05          Note - needed to install into main library, not the specific environment for repeatmasker to run.  \n",
    "Repeatmasker: 4.0.9  \n",
    "RM_Blast: 2.9.0  \n",
    "TRF: 4.0.9  \n",
    "RepeatDatabase: RepBase\n",
    "\n",
    "We used Repeatmasker software to softmask (-xsmall) the Muller elements of the eleven _Drosophila_ assemblies using the RepBase repeat database. Softmasking was in preparation to run Cactus whole genome multiple alignment program. \n",
    "\n"
   ]
  },
  {
   "cell_type": "markdown",
   "metadata": {},
   "source": [
    "**_D. ananassae_**"
   ]
  },
  {
   "cell_type": "code",
   "execution_count": null,
   "metadata": {},
   "outputs": [],
   "source": [
    "#!/bin/bash\n",
    "\n",
    "#SBATCH --partition=main             # Partition (job queue)\n",
    "#SBATCH --requeue                    # Return job to the queue if preempted\n",
    "#SBATCH --job-name=repmask          # Assign an short name to your job\n",
    "#SBATCH --nodes=1                    # Number of nodes you require\n",
    "#SBATCH --ntasks=1                  # Total # of tasks across all nodes\n",
    "#SBATCH --cpus-per-task=28            # Cores per task (>1 if multithread tasks)\n",
    "#SBATCH --mem=100G                 # Real memory (RAM) required (MB)\n",
    "#SBATCH --time=72:00:00              # Total run time limit (HH:MM:SS)\n",
    "#SBATCH --output=slurm.%N.%j.out     # STDOUT output fil\n",
    "#SBATCH --error=slurm.%N.%j.err      # STDERR output file (optional)\n",
    "#SBATCH --export=ALL                 # Export you current env to the job env\n",
    "\n",
    "cd /scratch/nt365/repeatmasked/dana_fasta\n",
    "\n",
    "perl /home/nt365/pkg/RepeatMasker/RepeatMasker dana_muller_o.fasta -species drosophila -xsmall"
   ]
  },
  {
   "cell_type": "markdown",
   "metadata": {},
   "source": [
    "**_D. erecta_**"
   ]
  },
  {
   "cell_type": "code",
   "execution_count": null,
   "metadata": {},
   "outputs": [],
   "source": [
    "#!/bin/bash\n",
    "\n",
    "#SBATCH --partition=main             # Partition (job queue)\n",
    "#SBATCH --requeue                    # Return job to the queue if preempted\n",
    "#SBATCH --job-name=repmask          # Assign an short name to your job\n",
    "#SBATCH --nodes=1                    # Number of nodes you require\n",
    "#SBATCH --ntasks=1                  # Total # of tasks across all nodes\n",
    "#SBATCH --cpus-per-task=28            # Cores per task (>1 if multithread tasks)\n",
    "#SBATCH --mem=100G                 # Real memory (RAM) required (MB)\n",
    "#SBATCH --time=72:00:00              # Total run time limit (HH:MM:SS)\n",
    "#SBATCH --output=slurm.%N.%j.out     # STDOUT output fil\n",
    "#SBATCH --error=slurm.%N.%j.err      # STDERR output file (optional)\n",
    "#SBATCH --export=ALL                 # Export you current env to the job env\n",
    "\n",
    "cd /scratch/nt365/repeatmasked/dere\n",
    "\n",
    "perl /home/nt365/pkg/RepeatMasker/RepeatMasker dere_muller_o.fasta -species drosophila -xsmall"
   ]
  },
  {
   "cell_type": "markdown",
   "metadata": {},
   "source": [
    "**_D.eug_**"
   ]
  },
  {
   "cell_type": "code",
   "execution_count": null,
   "metadata": {},
   "outputs": [],
   "source": [
    "#!/bin/bash\n",
    "\n",
    "#SBATCH --partition=main             # Partition (job queue)\n",
    "#SBATCH --requeue                    # Return job to the queue if preempted\n",
    "#SBATCH --job-name=repmask          # Assign an short name to your job\n",
    "#SBATCH --nodes=1                    # Number of nodes you require\n",
    "#SBATCH --ntasks=1                  # Total # of tasks across all nodes\n",
    "#SBATCH --cpus-per-task=28            # Cores per task (>1 if multithread tasks)\n",
    "#SBATCH --mem=150G                 # Real memory (RAM) required (MB)\n",
    "#SBATCH --time=72:00:00              # Total run time limit (HH:MM:SS)\n",
    "#SBATCH --output=slurm.%N.%j.out     # STDOUT output fil\n",
    "#SBATCH --error=slurm.%N.%j.err      # STDERR output file (optional)\n",
    "#SBATCH --export=ALL                 # Export you current env to the job env\n",
    "\n",
    "cd /scratch/nt365/repeatmasked/deug\n",
    "\n",
    "perl /home/nt365/pkg/RepeatMasker/RepeatMasker deug_muller_o.fasta -species drosophila -xsmall"
   ]
  },
  {
   "cell_type": "markdown",
   "metadata": {},
   "source": [
    "**_D. bia_**"
   ]
  },
  {
   "cell_type": "code",
   "execution_count": null,
   "metadata": {},
   "outputs": [],
   "source": [
    "#!/bin/bash\n",
    "\n",
    "#SBATCH --partition=main             # Partition (job queue)\n",
    "#SBATCH --requeue                    # Return job to the queue if preempted\n",
    "#SBATCH --job-name=repmask          # Assign an short name to your job\n",
    "#SBATCH --nodes=1                    # Number of nodes you require\n",
    "#SBATCH --ntasks=1                  # Total # of tasks across all nodes\n",
    "#SBATCH --cpus-per-task=28            # Cores per task (>1 if multithread tasks)\n",
    "#SBATCH --mem=150G                 # Real memory (RAM) required (MB)\n",
    "#SBATCH --time=72:00:00              # Total run time limit (HH:MM:SS)\n",
    "#SBATCH --output=slurm.%N.%j.out     # STDOUT output fil\n",
    "#SBATCH --error=slurm.%N.%j.err      # STDERR output file (optional)\n",
    "#SBATCH --export=ALL                 # Export you current env to the job env\n",
    "\n",
    "cd /scratch/nt365/repeatmasked/dbia\n",
    "\n",
    "perl /home/nt365/pkg/RepeatMasker/RepeatMasker dbia_muller_o.fasta -species drosophila -xsmall"
   ]
  },
  {
   "cell_type": "markdown",
   "metadata": {},
   "source": [
    "**_D. fic_**"
   ]
  },
  {
   "cell_type": "code",
   "execution_count": null,
   "metadata": {},
   "outputs": [],
   "source": [
    "#!/bin/bash\n",
    "\n",
    "#SBATCH --partition=genetics_1             # Partition (job queue)\n",
    "#SBATCH --requeue                    # Return job to the queue if preempted\n",
    "#SBATCH --job-name=repmask          # Assign an short name to your job\n",
    "#SBATCH --nodes=1                    # Number of nodes you require\n",
    "#SBATCH --ntasks=1                  # Total # of tasks across all nodes\n",
    "#SBATCH --cpus-per-task=28            # Cores per task (>1 if multithread tasks)\n",
    "#SBATCH --mem=150G                 # Real memory (RAM) required (MB)\n",
    "#SBATCH --time=72:00:00              # Total run time limit (HH:MM:SS)\n",
    "#SBATCH --output=slurm.%N.%j.out     # STDOUT output fil\n",
    "#SBATCH --error=slurm.%N.%j.err      # STDERR output file (optional)\n",
    "#SBATCH --export=ALL                 # Export you current env to the job env\n",
    "\n",
    "cd /scratch/nt365/repeatmasked/dfic\n",
    "\n",
    "perl /home/nt365/pkg/RepeatMasker/RepeatMasker dfic_muller_o.fasta -species drosophila -xsmall"
   ]
  },
  {
   "cell_type": "markdown",
   "metadata": {},
   "source": [
    "**_D. yakuba_**"
   ]
  },
  {
   "cell_type": "code",
   "execution_count": null,
   "metadata": {},
   "outputs": [],
   "source": [
    "#!/bin/bash\n",
    "\n",
    "#SBATCH --partition=main             # Partition (job queue)\n",
    "#SBATCH --requeue                    # Return job to the queue if preempted\n",
    "#SBATCH --job-name=repmask          # Assign an short name to your job\n",
    "#SBATCH --nodes=1                    # Number of nodes you require\n",
    "#SBATCH --ntasks=1                  # Total # of tasks across all nodes\n",
    "#SBATCH --cpus-per-task=28            # Cores per task (>1 if multithread tasks)\n",
    "#SBATCH --mem=150G                 # Real memory (RAM) required (MB)\n",
    "#SBATCH --time=72:00:00              # Total run time limit (HH:MM:SS)\n",
    "#SBATCH --output=slurm.%N.%j.out     # STDOUT output fil\n",
    "#SBATCH --error=slurm.%N.%j.err      # STDERR output file (optional)\n",
    "#SBATCH --export=ALL                 # Export you current env to the job env\n",
    "\n",
    "cd /scratch/nt365/repeatmasked/dyak\n",
    "\n",
    "perl /home/nt365/pkg/RepeatMasker/RepeatMasker dyak_muller_o.fasta -species drosophila -xsmall"
   ]
  },
  {
   "cell_type": "markdown",
   "metadata": {},
   "source": [
    "**_D. melanogaster_**"
   ]
  },
  {
   "cell_type": "code",
   "execution_count": null,
   "metadata": {},
   "outputs": [],
   "source": [
    "#!/bin/bash\n",
    "\n",
    "#SBATCH --partition=main             # Partition (job queue)\n",
    "#SBATCH --requeue                    # Return job to the queue if preempted\n",
    "#SBATCH --job-name=repmask          # Assign an short name to your job\n",
    "#SBATCH --nodes=1                    # Number of nodes you require\n",
    "#SBATCH --ntasks=1                  # Total # of tasks across all nodes\n",
    "#SBATCH --cpus-per-task=28            # Cores per task (>1 if multithread tasks)\n",
    "#SBATCH --mem=150G                 # Real memory (RAM) required (MB)\n",
    "#SBATCH --time=72:00:00              # Total run time limit (HH:MM:SS)\n",
    "#SBATCH --output=slurm.%N.%j.out     # STDOUT output fil\n",
    "#SBATCH --error=slurm.%N.%j.err      # STDERR output file (optional)\n",
    "#SBATCH --export=ALL                 # Export you current env to the job env\n",
    "\n",
    "cd /scratch/nt365/repeatmasked/dmel\n",
    "\n",
    "perl /home/nt365/pkg/RepeatMasker/RepeatMasker dmel-all-chromosome-r6.22_extract_ABCDEF.fasta -species drosophila -xsmall"
   ]
  },
  {
   "cell_type": "markdown",
   "metadata": {},
   "source": [
    "**_D. simulans_**"
   ]
  },
  {
   "cell_type": "code",
   "execution_count": null,
   "metadata": {},
   "outputs": [],
   "source": [
    "#!/bin/bash\n",
    "\n",
    "#SBATCH --partition=main             # Partition (job queue)\n",
    "#SBATCH --requeue                    # Return job to the queue if preempted\n",
    "#SBATCH --job-name=repmask          # Assign an short name to your job\n",
    "#SBATCH --nodes=1                    # Number of nodes you require\n",
    "#SBATCH --ntasks=1                  # Total # of tasks across all nodes\n",
    "#SBATCH --cpus-per-task=28            # Cores per task (>1 if multithread tasks)\n",
    "#SBATCH --mem=150G                 # Real memory (RAM) required (MB)\n",
    "#SBATCH --time=72:00:00              # Total run time limit (HH:MM:SS)\n",
    "#SBATCH --output=slurm.%N.%j.out     # STDOUT output fil\n",
    "#SBATCH --error=slurm.%N.%j.err      # STDERR output file (optional)\n",
    "#SBATCH --export=ALL                 # Export you current env to the job env\n",
    "\n",
    "cd /scratch/nt365/repeatmasked/dsim\n",
    "\n",
    "perl /home/nt365/pkg/RepeatMasker/RepeatMasker dsim_muller_o.fasta -species drosophila -xsmall"
   ]
  },
  {
   "cell_type": "markdown",
   "metadata": {},
   "source": [
    "**Batch script**\n",
    "1. **_D. tak_**\n",
    "2. **_D. elegans_**\n",
    "3. **_D. tri_**"
   ]
  },
  {
   "cell_type": "code",
   "execution_count": null,
   "metadata": {},
   "outputs": [],
   "source": [
    "#!/bin/bash\n",
    "\n",
    "#SBATCH --partition=main             # Partition (job queue)\n",
    "#SBATCH --requeue                    # Return job to the queue if preempted\n",
    "#SBATCH --job-name=repmask          # Assign an short name to your job\n",
    "#SBATCH --nodes=1                    # Number of nodes you require\n",
    "#SBATCH --ntasks=1                  # Total # of tasks across all nodes\n",
    "#SBATCH --cpus-per-task=28            # Cores per task (>1 if multithread tasks)\n",
    "#SBATCH --mem=150G                 # Real memory (RAM) required (MB)\n",
    "#SBATCH --time=72:00:00              # Total run time limit (HH:MM:SS)\n",
    "#SBATCH --output=slurm.%N.%j.out     # STDOUT output fil\n",
    "#SBATCH --error=slurm.%N.%j.err      # STDERR output file (optional)\n",
    "#SBATCH --export=ALL                 # Export you current env to the job env\n",
    "#SBATCH --array=1-3\n",
    "cd /scratch/nt365/repeatmasked/batch\n",
    "\n",
    "perl /home/nt365/pkg/RepeatMasker/RepeatMasker $SLURM_ARRAY_TASK_ID\\_muller_o.fasta -species drosophila -xsmall"
   ]
  }
 ],
 "metadata": {
  "kernelspec": {
   "display_name": "Python 3",
   "language": "python",
   "name": "python3"
  },
  "language_info": {
   "codemirror_mode": {
    "name": "ipython",
    "version": 3
   },
   "file_extension": ".py",
   "mimetype": "text/x-python",
   "name": "python",
   "nbconvert_exporter": "python",
   "pygments_lexer": "ipython3",
   "version": "3.7.10"
  }
 },
 "nbformat": 4,
 "nbformat_minor": 2
}
