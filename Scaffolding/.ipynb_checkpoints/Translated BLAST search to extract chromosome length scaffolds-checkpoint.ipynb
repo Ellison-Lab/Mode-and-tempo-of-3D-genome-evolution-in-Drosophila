{
 "cells": [
  {
   "cell_type": "markdown",
   "metadata": {},
   "source": [
    "  #### Create new FASTA from JUICEBOX .assembly output  \n",
    " **Versions**  \n",
    "java: 1.8.0_211  \n",
    "python 2.7  \n",
    "samtools: 1.3.1  \n",
    "blast: 2.6.0  \n",
    "bedtools: 2.29.0"
   ]
  },
  {
   "cell_type": "markdown",
   "metadata": {},
   "source": [
    "The following command is run on the edited **.review.assembly** file edited in JUICEBOX. This command will output a CAPITALIZED **(.FINAL.fasta)** file that should be used in downstream analysis."
   ]
  },
  {
   "cell_type": "code",
   "execution_count": null,
   "metadata": {},
   "outputs": [],
   "source": [
    "conda activate 3D-DNA\n",
    "module load java\n",
    "./pkg/3d-dna/run-asm-pipeline-post-review.sh -r reference.rawchrom.review.assembly ./juicer/references/reference.fa ./juicer/work/d_species/aligned/merged_nodups.txt >& final_fasta.log\n",
    "#the .review.assembly file is the edited file from JUICEBOX. This command will output a CAPITALIZED (.FINAL.fasta) file that should be used in downstream analysis."
   ]
  },
  {
   "cell_type": "code",
   "execution_count": null,
   "metadata": {},
   "outputs": [],
   "source": [
    "module load samtools\n",
    "module load blast\n",
    "\n",
    "# GET LENGTHS OF SCAFFOLDS\n",
    "# scaffold lengths will be stored in the second column of NAME.scaffolded.fai\n",
    "samtools faidx reference.FINAL.fasta \n",
    "makeblastdb -dbtype nucl -in reference.FINAL.fasta \n",
    "tblastn -query /projects/genetics/ellison_lab/genomes/pep/dmel_r6_longest_isoform.pep.fasta -db reference.FINAL.fasta -evalue 1e-4 -outfmt 6 > d_species.tblastn\n",
    "# KEEP ONLY THE BEST HIT FOR EACH QUERY\n",
    "python /projects/genetics/ellison_lab/scripts/best.py d_species.tblastn > d_species.tblastn.best\n",
    "\n",
    "# COUNT THE NUMBER OF PEPTIDES FROM EACH DMEL CHROMOSOME THAT MATCH EACH SCAFFOLD IN THE ASSEMBLY\n",
    "cut -f 1,2 d_species.tblastn.best | sed -r 's/_/\\t/' | sort -k3 | bedtools groupby -g 3 -c 2 -o freqdesc > d_species.chrom_count\n",
    "\n",
    "echo -e \"SCAFFOLD\\tLENGTH\\tMULLER_A\\tMULLER_B\\tMULLER_C\\tMULLER_D\\tMULLER_E\\tMULLER_F\\tOTHER\\tTOTAL\" > d_species.chrom_count_table.txt\n",
    "\n",
    "python /projects/genetics/ellison_lab/tiru_results/blast_chrom_count2table.py d_species.chrom_count reference.FINAL.fasta.fai | sort -k2 -nr >> d_species.chrom_count_table.txt"
   ]
  },
  {
   "cell_type": "markdown",
   "metadata": {},
   "source": [
    "**Steps to create new fasta after aligning HiC data to the NEW _d.ananassae_ assembly**  "
   ]
  },
  {
   "cell_type": "code",
   "execution_count": null,
   "metadata": {},
   "outputs": [],
   "source": [
    "#!/bin/bash\n",
    "\n",
    "#SBATCH --partition=main             # Partition (job queue)\n",
    "#SBATCH --requeue                    # Return job to the queue if preempted\n",
    "#SBATCH --job-name=newfasta          # Assign an short name to your job\n",
    "#SBATCH --nodes=1                    # Number of nodes you require\n",
    "#SBATCH --ntasks=1                  # Total # of tasks across all nodes\n",
    "#SBATCH --cpus-per-task=28            # Cores per task (>1 if multithread tasks)\n",
    "#SBATCH --mem=200G                 # Real memory (RAM) required (MB)\n",
    "#SBATCH --time=72:00:00              # Total run time limit (HH:MM:SS)\n",
    "#SBATCH --output=slurm.%N.%j.out     # STDOUT output file\n",
    "#SBATCH --error=slurm.%N.%j.err      # STDERR output file (optional)\n",
    "#SBATCH --export=ALL                 # Export you current env to the job env\n",
    "\n",
    "module load java\n",
    "/home/nt365/pkg/3d-dna/run-asm-pipeline-post-review.sh -r dana_pacbio_GCA_003285975.rawchrom.review.assembly /scratch/nt365/juicer/references/dana_pacbio_GCA_003285975.fasta /scratch/nt365/juicer/work/dana/aligned/merged_nodups.txt >& final_fasta.log\n",
    "#the .review.assembly file is the edited file from JUICEBOX. This command will output a CAPITALIZED (.FINAL.fasta) file that should be used in downstream analysis.\n"
   ]
  },
  {
   "cell_type": "code",
   "execution_count": null,
   "metadata": {},
   "outputs": [],
   "source": [
    "#!/bin/bash\n",
    "\n",
    "#SBATCH --partition=main    # Partition (job queue)\n",
    "#SBATCH --job-name=blast         # Assign an 8-character name to your job, no spaces\n",
    "#SBATCH --nodes=1                # Number of compute nodes\n",
    "#SBATCH --ntasks=1               # Processes (usually = cores) on each node\n",
    "#SBATCH --cpus-per-task=28       # Threads per process (or per core)\n",
    "#SBATCH --export=ALL             # Export you current environment settings to the job environment\n",
    "#SBATCH --time=12:00:00\n",
    "#SBATCH --mem=20G\n",
    "#SBATCH --output=/scratch/nt365/3D-DNA_dana10/re-BLAST/slurm.%N.%j.out      \n",
    "#SBATCH --error=/scratch/nt365/3D-DNA_dana10/re-BLAST/slurm.%N.%j.err      # STDERR output file (optional)\n",
    "\n",
    "module purge\n",
    "module load samtools\n",
    "module load blast\n",
    "# GET LENGTHS OF SCAFFOLDS\n",
    "# scaffold lengths will be stored in the second column of NAME.scaffolded.fai\n",
    "samtools faidx dana_pacbio_GCA_003285975.FINAL.fasta \n",
    "makeblastdb -dbtype nucl -in dana_pacbio_GCA_003285975.FINAL.fasta \n",
    "tblastn -query /projects/genetics/ellison_lab/genomes/pep/dmel_r6_longest_isoform.pep.fasta -db dana_pacbio_GCA_003285975.FINAL.fasta -evalue 1e-4 -outfmt 6 > Dana.tblastn\n",
    "# KEEP ONLY THE BEST HIT FOR EACH QUERY\n",
    "python /projects/genetics/ellison_lab/scripts/best.py Dana.tblastn > Dana.tblastn.best\n",
    "\n",
    "# COUNT THE NUMBER OF PEPTIDES FROM EACH DMEL CHROMOSOME THAT MATCH EACH SCAFFOLD IN THE ASSEMBLY\n",
    "cut -f 1,2 Dana.tblastn.best | sed -r 's/_/\\t/' | sort -k3 | bedtools groupby -g 3 -c 2 -o freqdesc > Dana.chrom_count\n",
    "\n",
    "echo -e \"SCAFFOLD\\tLENGTH\\tMULLER_A\\tMULLER_B\\tMULLER_C\\tMULLER_D\\tMULLER_E\\tMULLER_F\\tOTHER\\tTOTAL\" > Dana.chrom_count_table.txt\n",
    "\n",
    "python /projects/genetics/ellison_lab/tiru_results/blast_chrom_count2table.py Dana.chrom_count dana_pacbio_GCA_003285975.FINAL.fasta.fai | sort -k2 -nr >> Dana.chrom_count_table.txt"
   ]
  },
  {
   "cell_type": "markdown",
   "metadata": {},
   "source": [
    "**Steps to create new fasta after aligning HiC data to the NEW _d.erecta_ assembly**  \n"
   ]
  },
  {
   "cell_type": "code",
   "execution_count": null,
   "metadata": {},
   "outputs": [],
   "source": [
    "#!/bin/bash\n",
    "\n",
    "#SBATCH --partition=main             # Partition (job queue)\n",
    "#SBATCH --requeue                    # Return job to the queue if preempted\n",
    "#SBATCH --job-name=newfasta          # Assign an short name to your job\n",
    "#SBATCH --nodes=1                    # Number of nodes you require\n",
    "#SBATCH --ntasks=1                  # Total # of tasks across all nodes\n",
    "#SBATCH --cpus-per-task=28            # Cores per task (>1 if multithread tasks)\n",
    "#SBATCH --mem=200G                 # Real memory (RAM) required (MB)\n",
    "#SBATCH --time=72:00:00              # Total run time limit (HH:MM:SS)\n",
    "#SBATCH --output=slurm.%N.%j.out     # STDOUT output file\n",
    "#SBATCH --error=slurm.%N.%j.err      # STDERR output file (optional)\n",
    "#SBATCH --export=ALL                 # Export you current env to the job env\n",
    "\n",
    "cd /scratch/nt365/3D-DNA_dere20/BLAST/\n",
    "module load java\n",
    "\n",
    "/home/nt365/pkg/3d-dna/run-asm-pipeline-post-review.sh -r dere_pacbio_GCA_003286155.rawchrom.review_CE.assembly /scratch/nt365/juicer/references/dere_pacbio_GCA_003286155.fasta /scratch/nt365/juicer/work/dana/aligned/merged_nodups.txt >& final_fasta.log"
   ]
  },
  {
   "cell_type": "code",
   "execution_count": null,
   "metadata": {},
   "outputs": [],
   "source": [
    "#!/bin/bash\n",
    "\n",
    "#SBATCH --partition=main    # Partition (job queue)\n",
    "#SBATCH --job-name=blast         # Assign an 8-character name to your job, no spaces\n",
    "#SBATCH --nodes=1                # Number of compute nodes\n",
    "#SBATCH --ntasks=1               # Processes (usually = cores) on each node\n",
    "#SBATCH --cpus-per-task=28       # Threads per process (or per core)\n",
    "#SBATCH --export=ALL             # Export you current environment settings to the job environment\n",
    "#SBATCH --time=12:00:00\n",
    "#SBATCH --mem=20G\n",
    "#SBATCH --output=/scratch/nt365/3D-DNA_dana10/re-BLAST/slurm.%N.%j.out      \n",
    "#SBATCH --error=/scratch/nt365/3D-DNA_dana10/re-BLAST/slurm.%N.%j.err      # STDERR output file (optional)\n",
    "\n",
    "module purge\n",
    "module load samtools \n",
    "module load blast \n",
    "samtools faidx dere_pacbio_GCA_003286155.FINAL.fasta\n",
    "makeblastdb -dbtype nucl -in dere_pacbio_GCA_003286155.FINAL.fasta \n",
    "tblastn -query /projects/genetics/ellison_lab/genomes/pep/dmel_r6_longest_isoform.pep.fasta -db dere_pacbio_GCA_003286155.FINAL.fasta -evalue 1e-4 -outfmt 6 > Dere.tblastn\n",
    "\n",
    "python /projects/genetics/ellison_lab/scripts/best.py Dere.tblastn > Dere.tblastn.best\n",
    "\n",
    "cut -f 1,2 Dere.tblastn.best | sed -r 's/_/\\t/' | sort -k3 | bedtools groupby -g 3 -c 2 -o freqdesc > Dere.chrom_count\n",
    "\n",
    "echo -e \"SCAFFOLD\\tLENGTH\\tMULLER_A\\tMULLER_B\\tMULLER_C\\tMULLER_D\\tMULLER_E\\tMULLER_F\\tOTHER\\tTOTAL\" > Dere.chrom_count_table.txt\n",
    "\n",
    "python /projects/genetics/ellison_lab/tiru_results/blast_chrom_count2table.py Dere.chrom_count dere_pacbio_GCA_003286155.FINAL.fasta.fai | sort -k2 -nr >> Dere.chrom_count_table.txt"
   ]
  },
  {
   "cell_type": "markdown",
   "metadata": {},
   "source": [
    "**Steps to create new fasta after aligning HiC data to the NEW _d.yakuba_ assembly**  "
   ]
  },
  {
   "cell_type": "code",
   "execution_count": null,
   "metadata": {},
   "outputs": [],
   "source": [
    "#!/bin/bash\n",
    "\n",
    "#SBATCH --partition=main             # Partition (job queue)\n",
    "#SBATCH --requeue                    # Return job to the queue if preempted\n",
    "#SBATCH --job-name=newfasta          # Assign an short name to your job\n",
    "#SBATCH --nodes=1                    # Number of nodes you require\n",
    "#SBATCH --ntasks=1                  # Total # of tasks across all nodes\n",
    "#SBATCH --cpus-per-task=28            # Cores per task (>1 if multithread tasks)\n",
    "#SBATCH --mem=200G                 # Real memory (RAM) required (MB)\n",
    "#SBATCH --time=72:00:00              # Total run time limit (HH:MM:SS)\n",
    "#SBATCH --output=slurm.%N.%j.out     # STDOUT output file\n",
    "#SBATCH --error=slurm.%N.%j.err      # STDERR output file (optional)\n",
    "#SBATCH --export=ALL                 # Export you current env to the job env\n",
    "\n",
    "REF=/scratch/nt365/juicer/references/dyak/Dyak.pass.minimap2.racon.x3.pilon.x3.fasta\n",
    "RA=Dyak.pass.minimap2.racon.x3.pilon.x3.rawchrom.review_CE2.assembly\n",
    "N=Dyak.pass.minimap2.racon.x3.pilon.x3.FINAL.fasta\n",
    "SP=dyak\n",
    "module load java\n",
    "/home/nt365/pkg/3d-dna/run-asm-pipeline-post-review.sh -r $RA $REF /scratch/nt365/juicer/work/$SP/aligned/merged_nodups.txt >& final_fasta.log\n",
    "\n",
    "module purge\n",
    "module load samtools\n",
    "module load blast\n",
    "samtools faidx $N \n",
    "makeblastdb -dbtype nucl -in $N \n",
    "tblastn -query /projects/genetics/ellison_lab/genomes/pep/dmel_r6_longest_isoform.pep.fasta -db $N -evalue 1e-4 -outfmt 6 > $SP.tblastn\n",
    "python /projects/genetics/ellison_lab/scripts/best.py $SP.tblastn > $SP.tblastn.best\n",
    "\n",
    "cut -f 1,2 $SP.tblastn.best | sed -r 's/_/\\t/' | sort -k3 | bedtools groupby -g 3 -c 2 -o freqdesc > $SP.chrom_count\n",
    "\n",
    "echo -e \"SCAFFOLD\\tLENGTH\\tMULLER_A\\tMULLER_B\\tMULLER_C\\tMULLER_D\\tMULLER_E\\tMULLER_F\\tOTHER\\tTOTAL\" > $SP.chrom_count_table.txt\n",
    "\n",
    "python /projects/genetics/ellison_lab/tiru_results/blast_chrom_count2table.py $SP.chrom_count $N.fai | sort -k2 -nr >> $SP.chrom_count_table.txt"
   ]
  },
  {
   "cell_type": "markdown",
   "metadata": {},
   "source": [
    "**Steps to create new fasta after aligning HiC data to the _D.simulans_ assembly**  "
   ]
  },
  {
   "cell_type": "code",
   "execution_count": null,
   "metadata": {},
   "outputs": [],
   "source": [
    "#!/bin/bash\n",
    "\n",
    "#SBATCH --partition=main             # Partition (job queue)\n",
    "#SBATCH --requeue                    # Return job to the queue if preempted\n",
    "#SBATCH --job-name=newfasta          # Assign an short name to your job\n",
    "#SBATCH --nodes=1                    # Number of nodes you require\n",
    "#SBATCH --ntasks=1                  # Total # of tasks across all nodes\n",
    "#SBATCH --cpus-per-task=28            # Cores per task (>1 if multithread tasks)\n",
    "#SBATCH --mem=200G                 # Real memory (RAM) required (MB)\n",
    "#SBATCH --time=72:00:00              # Total run time limit (HH:MM:SS)\n",
    "#SBATCH --output=slurm.%N.%j.out     # STDOUT output file\n",
    "#SBATCH --error=slurm.%N.%j.err      # STDERR output file (optional)\n",
    "#SBATCH --export=ALL                 # Export you current env to the job env\n",
    "\n",
    "REF=/scratch/nt365/juicer/references/dsim/Dsim.pass.minimap2.racon.x3.pilon.x3.fasta\n",
    "RA=Dsim.pass.minimap2.racon.x3.pilon.x3.rawchrom.review_CE.assembly\n",
    "N=Dsim.pass.minimap2.racon.x3.pilon.x3.FINAL.fasta\n",
    "SP=dsim\n",
    "module load java\n",
    "/home/nt365/pkg/3d-dna/run-asm-pipeline-post-review.sh -r $RA $REF /scratch/nt365/juicer/work/$SP/aligned/merged_nodups.txt >& final_fasta.log\n",
    "\n",
    "module purge\n",
    "module load samtools\n",
    "module load blast\n",
    "samtools faidx $N \n",
    "makeblastdb -dbtype nucl -in $N \n",
    "tblastn -query /projects/genetics/ellison_lab/genomes/pep/dmel_r6_longest_isoform.pep.fasta -db $N -evalue 1e-4 -outfmt 6 > $SP.tblastn\n",
    "python /projects/genetics/ellison_lab/scripts/best.py $SP.tblastn > $SP.tblastn.best\n",
    "\n",
    "cut -f 1,2 $SP.tblastn.best | sed -r 's/_/\\t/' | sort -k3 | bedtools groupby -g 3 -c 2 -o freqdesc > $SP.chrom_count\n",
    "\n",
    "echo -e \"SCAFFOLD\\tLENGTH\\tMULLER_A\\tMULLER_B\\tMULLER_C\\tMULLER_D\\tMULLER_E\\tMULLER_F\\tOTHER\\tTOTAL\" > $SP.chrom_count_table.txt\n",
    "\n",
    "python /projects/genetics/ellison_lab/tiru_results/blast_chrom_count2table.py $SP.chrom_count $N.fai | sort -k2 -nr >> $SP.chrom_count_table.txt"
   ]
  },
  {
   "cell_type": "markdown",
   "metadata": {},
   "source": [
    "**Steps to create new fasta after aligning HiC data to the _D. ficusphila_ assembly**  "
   ]
  },
  {
   "cell_type": "code",
   "execution_count": null,
   "metadata": {},
   "outputs": [],
   "source": [
    "samtools faidx Dfic_r2_illumina.reformat.scaffolds.fasta\n",
    "\n",
    "makeblastdb -dbtype nucl -in Dfic_r2_illumina.reformat.scaffolds.fasta\n",
    "tblastn -query /projects/genetics/ellison_lab/genomes/pep/dmel_r6_longest_isoform.pep.fasta -db Dfic_r2_illumina.reformat.scaffolds.fasta -evalue 1e-4 -outfmt 6 > Dfic.tblastn\n",
    "\n",
    "python /projects/genetics/ellison_lab/scripts/best.py Dfic.tblastn > Dfic.tblastn.best\n",
    "cut -f 1,2 Dfic.tblastn.best | sed -r 's/_/\\t/' | sort -k3 | bedtools groupby -g 3 -c 2 -o freqdesc > Dfic.chrom_count"
   ]
  },
  {
   "cell_type": "markdown",
   "metadata": {},
   "source": [
    "**Steps to create new fasta after aligning HiC data to the _D. biarmipes_ assembly**  "
   ]
  },
  {
   "cell_type": "code",
   "execution_count": null,
   "metadata": {},
   "outputs": [],
   "source": [
    "samtools faidx Dbia_r2_illumina_patched.scaffolds.fasta\n",
    "\n",
    "makeblastdb -dbtype nucl -in Dbia_r2_illumina_patched.scaffolds.fasta\n",
    "tblastn -query /projects/genetics/ellison_lab/genomes/pep/dmel_r6_longest_isoform.pep.fasta -db Dbia_r2_illumina_patched.scaffolds.fasta -evalue 1e-4 -outfmt 6 > Dbia.tblastn\n",
    "\n",
    "\n",
    "python /projects/genetics/ellison_lab/scripts/best.py Dbia.tblastn > Dbia.tblastn.best\n",
    "\n",
    "cut -f 1,2 Dbia.tblastn.best | sed -r 's/_/\\t/' | sort -k3 | bedtools groupby -g 3 -c 2 -o freqdesc > Dbia.chrom_count\n",
    "\n",
    "echo -e \"SCAFFOLD\\tLENGTH\\tMULLER_A\\tMULLER_B\\tMULLER_C\\tMULLER_D\\tMULLER_E\\tMULLER_F\\tOTHER\\tTOTAL\" > Dbia.chrom_count_table.txt\n",
    "\n",
    "python /projects/genetics/ellison_lab/tiru_results/blast_chrom_count2table.py Dbia.chrom_count Dbia_r2_illumina_patched.scaffolds.fasta.fai | sort -k2 -nr >> Dbia.chrom_count_table.txt\n"
   ]
  },
  {
   "cell_type": "markdown",
   "metadata": {},
   "source": [
    "**Steps to create new fasta after aligning HiC data to the _D. elegans_ assembly**  "
   ]
  },
  {
   "cell_type": "code",
   "execution_count": null,
   "metadata": {},
   "outputs": [],
   "source": [
    "samtools faidx Dele_r2_illumina_patched.scaffolds.fasta\n",
    "\n",
    "makeblastdb -dbtype nucl -in Dele_r2_illumina_patched.scaffolds.fasta\n",
    "tblastn -query /projects/genetics/ellison_lab/genomes/pep/dmel_r6_longest_isoform.pep.fasta -db Dele_r2_illumina_patched.scaffolds.fasta -evalue 1e-4 -outfmt 6 > Dele.tblastn\n",
    "\n",
    "\n",
    "python /projects/genetics/ellison_lab/scripts/best.py Dele.tblastn > Dele.tblastn.best\n",
    "\n",
    "cut -f 1,2 Dele.tblastn.best | sed -r 's/_/\\t/' | sort -k3 | bedtools groupby -g 3 -c 2 -o freqdesc > Dele.chrom_count\n"
   ]
  },
  {
   "cell_type": "markdown",
   "metadata": {},
   "source": [
    "**Steps to create new fasta after aligning HiC data to the _D. eugracilis_ assembly**  "
   ]
  },
  {
   "cell_type": "code",
   "execution_count": null,
   "metadata": {},
   "outputs": [],
   "source": [
    "samtools faidx Deug_r2_illumina_patched.scaffolds.fasta\n",
    "\n",
    "makeblastdb -dbtype nucl -in Deug_r2_illumina_patched.scaffolds.fasta\n",
    "tblastn -query /projects/genetics/ellison_lab/genomes/pep/dmel_r6_longest_isoform.pep.fasta -db Deug_r2_illumina_patched.scaffolds.fasta -evalue 1e-4 -outfmt 6 > Deug.tblastn\n",
    "\n",
    "python /projects/genetics/ellison_lab/scripts/best.py Deug.tblastn > Deug.tblastn.best\n",
    "\n",
    "cut -f 1,2 Deug.tblastn.best | sed -r 's/_/\\t/' | sort -k3 | bedtools groupby -g 3 -c 2 -o freqdesc > Deug.chrom_count"
   ]
  },
  {
   "cell_type": "markdown",
   "metadata": {},
   "source": [
    "**Steps to create new fasta after aligning HiC data to the _D. yakuba_ assembly**  "
   ]
  },
  {
   "cell_type": "code",
   "execution_count": null,
   "metadata": {},
   "outputs": [],
   "source": [
    "samtools faidx Dyak_r2_illumina_patched.scaffolds.fasta\n",
    "\n",
    "makeblastdb -dbtype nucl -in Dyak_r2_illumina_patched.scaffolds.fasta\n",
    "tblastn -query /projects/genetics/ellison_lab/genomes/pep/dmel_r6_longest_isoform.pep.fasta -db Dyak_r2_illumina_patched.scaffolds.fasta -evalue 1e-4 -outfmt 6 > Dyak.tblastn\n",
    "\n",
    "\n",
    "python import sys\n",
    "\n",
    "filename = sys.argv[1]\n",
    "fh = open(filename)\n",
    "\n",
    "hits = {}\n",
    "best = {}\n",
    "tot=0\n",
    "for line in fh:\n",
    "    tot+=1\n",
    "    line = line.rstrip()\n",
    "    cols = line.split('\\t')\n",
    "    qid  = cols[0]\n",
    "    scr  = float(cols[11])\n",
    "    if best.get(qid):\n",
    "        if scr > best[qid]:\n",
    "            best[qid] = float(scr)\n",
    "#            print(best[qid])\n",
    "    else:\n",
    "        best[qid] = scr\n",
    "#        print(best[qid])\n",
    "    if hits.get(qid):\n",
    "        if hits[qid].get(scr):\n",
    "            hits[qid][scr].append(line)\n",
    "        else:\n",
    "            hits[qid][scr] = [line]\n",
    "    else:\n",
    "        hits[qid] = {}\n",
    "        hits[qid][scr]=[line]\n",
    "fh.close()\n",
    "\n",
    "all_hits = hits.keys()\n",
    "qtot = len(all_hits)\n",
    "\n",
    "for i in all_hits:\n",
    "    score = best[i]\n",
    "    outstring = '\\n'.join(hits[i][score])\n",
    "    print(outstring)\n",
    "print('Parsed a total of',tot,'alignments and reported the best hit for',qtot,'queries.',file=sys.stderr)\n",
    " Dyak.tblastn > Dyak.tblastn.best\n",
    "\n",
    "cut -f 1,2 Dyak.tblastn.best | sed -r 's/_/\\t/' | sort -k3 | bedtools groupby -g 3 -c 2 -o freqdesc > Dyak.chrom_count\n",
    "\n",
    "echo -e \"SCAFFOLD\\tLENGTH\\tMULLER_A\\tMULLER_B\\tMULLER_C\\tMULLER_D\\tMULLER_E\\tMULLER_F\\tOTHER\\tTOTAL\" > Dyak.chrom_count_table.txt\n",
    "\n",
    "python /projects/genetics/ellison_lab/tiru_results/blast_chrom_count2table.py Dyak.chrom_count Dyak_r2_illumina_patched.scaffolds.fasta.fai | sort -k2 -nr >> Dyak.chrom_count_table.txt\n"
   ]
  },
  {
   "cell_type": "markdown",
   "metadata": {},
   "source": [
    "**Steps to create new fasta after aligning HiC data to the _D. takahashi_ assembly**  "
   ]
  },
  {
   "cell_type": "code",
   "execution_count": null,
   "metadata": {},
   "outputs": [],
   "source": [
    "samtools faidx Dtak_r2_illumina.reformat.scaffolds.fasta\n",
    "\n",
    "#makeblastdb -dbtype nucl -in NAME.scaffolded.fasta–r FINAL_ASSEMBLY_FILE ORIGINA\n",
    "makeblastdb -dbtype nucl -in Dtak_r2_illumina.reformat.scaffolds.fasta\n",
    "tblastn -query /projects/genetics/ellison_lab/genomes/pep/dmel_r6_longest_isoform.pep.fasta -db Dtak_r2_illumina.reformat.scaffolds.fasta -evalue 1e-4 -outfmt 6 > Dtak.tblastn\n",
    "\n",
    "# KEEP ONLY THE BEST HIT FOR EACH QUERY\n",
    "python /projects/genetics/ellison_lab/scripts/best.py Dtak.tblastn > Dtak.tblastn.best\n",
    "\n",
    "# COUNT THE NUMBER OF PEPTIDES FROM EACH DMEL CHROMOSOME THAT MATCH EACH SCAFFOLD IN THE ASSEMBLY\n",
    "cut -f 1,2 Dtak.tblastn.best | sed -r 's/_/\\t/' | sort -k3 | bedtools groupby -g 3 -c 2 -o freqdesc > Dtak.chrom_count"
   ]
  },
  {
   "cell_type": "markdown",
   "metadata": {},
   "source": [
    "blast_chrom_count2table.py"
   ]
  },
  {
   "cell_type": "code",
   "execution_count": null,
   "metadata": {},
   "outputs": [],
   "source": [
    "import sys\n",
    "\n",
    "countfile=sys.argv[1]\n",
    "lengthfile=sys.argv[2]\n",
    "\n",
    "lengths={}\n",
    "le=open(lengthfile)\n",
    "for scaff in le:\n",
    "    slist=scaff.rstrip().split(\"\\t\")\n",
    "    lengths[slist[0]]=slist[1]\n",
    "\n",
    "#print(\"SCAFFOLD\",\"LENGTH\",\"MULLER_A\",\"MULLER_B\",\"MULLER_C\",\"MULLER_D\",\"MULLER_E\",\"MULLER_F\",\"OTHER\",\"TOTAL\",sep=\"\\t\")\n",
    "muller = {\"2L\":\"Muller_B\",\"2R\":\"Muller_C\",\"3L\":\"Muller_D\",\"3R\":\"Muller_E\",\"4\":\"Muller_F\",\"X\":\"Muller_A\"}\n",
    "\n",
    "output = {}\n",
    "fh=open(countfile)\n",
    "for line in fh:\n",
    "    list1=line.rstrip().split(\"\\t\")\n",
    "    list2=list1[1].split(\",\")\n",
    "    outdict = {\"Muller_A\":0,\n",
    "               \"Muller_B\":0,\n",
    "               \"Muller_C\":0,\n",
    "               \"Muller_D\":0,\n",
    "               \"Muller_E\":0,\n",
    "               \"Muller_F\":0}\n",
    "    other = {}\n",
    "    chromSum=0\n",
    "    for c in list2:\n",
    "        (chrom,num) = c.split(\":\")\n",
    "        chromSum+=int(num)\n",
    "        if muller.get(chrom):\n",
    "            mchrom = muller[chrom]\n",
    "            outdict[mchrom] += int(num)\n",
    "        else:\n",
    "            other[chrom] = num\n",
    "    outline = [list1[0],lengths[list1[0]],outdict[\"Muller_A\"],outdict[\"Muller_B\"],outdict[\"Muller_C\"],outdict[\"Muller_D\"],outdict[\"Muller_E\"],outdict[\"Muller_F\"]]\n",
    "    other_list=[]\n",
    "    if(other):\n",
    "        for m,n in other.items():\n",
    "            item = m+\":\"+n\n",
    "            other_list.append(item)\n",
    "    else:\n",
    "        other_list.append(\"NA:NA\")\n",
    "    other_str = ','.join(other_list)\n",
    "    outline.append(other_str)\n",
    "    outline.append(chromSum)\n",
    "    convert = [str(i) for i in outline] \n",
    "    print(\"\\t\".join(convert))\n"
   ]
  },
  {
   "cell_type": "markdown",
   "metadata": {},
   "source": [
    "best.py"
   ]
  },
  {
   "cell_type": "code",
   "execution_count": null,
   "metadata": {},
   "outputs": [],
   "source": [
    "import sys\n",
    "\n",
    "filename = sys.argv[1]\n",
    "fh = open(filename)\n",
    "\n",
    "hits = {}\n",
    "best = {}\n",
    "tot=0\n",
    "for line in fh:\n",
    "    tot+=1\n",
    "    line = line.rstrip()\n",
    "    cols = line.split('\\t')\n",
    "    qid  = cols[0]\n",
    "    scr  = float(cols[11])\n",
    "    if best.get(qid):\n",
    "        if scr > best[qid]:\n",
    "            best[qid] = float(scr)\n",
    "#            print(best[qid])\n",
    "    else:\n",
    "        best[qid] = scr\n",
    "#        print(best[qid])\n",
    "    if hits.get(qid):\n",
    "        if hits[qid].get(scr):\n",
    "            hits[qid][scr].append(line)\n",
    "        else:\n",
    "            hits[qid][scr] = [line]\n",
    "    else:\n",
    "        hits[qid] = {}\n",
    "        hits[qid][scr]=[line]\n",
    "fh.close()\n",
    "\n",
    "all_hits = hits.keys()\n",
    "qtot = len(all_hits)\n",
    "\n",
    "for i in all_hits:\n",
    "    score = best[i]\n",
    "    outstring = '\\n'.join(hits[i][score])\n",
    "    print(outstring)\n",
    "print('Parsed a total of',tot,'alignments and reported the best hit for',qtot,'queries.',file=sys.stderr)\n"
   ]
  }
 ],
 "metadata": {
  "kernelspec": {
   "display_name": "Python 3",
   "language": "python",
   "name": "python3"
  },
  "language_info": {
   "codemirror_mode": {
    "name": "ipython",
    "version": 3
   },
   "file_extension": ".py",
   "mimetype": "text/x-python",
   "name": "python",
   "nbconvert_exporter": "python",
   "pygments_lexer": "ipython3",
   "version": "3.7.10"
  }
 },
 "nbformat": 4,
 "nbformat_minor": 2
}
