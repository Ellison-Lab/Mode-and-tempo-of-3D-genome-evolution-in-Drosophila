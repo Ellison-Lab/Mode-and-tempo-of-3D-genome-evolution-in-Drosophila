{
 "cells": [
  {
   "cell_type": "markdown",
   "metadata": {},
   "source": [
    "# Juicer and 3D DNA alignment pipeline  \n",
    "\n",
    "Versions:  \n",
    "BWA:0.7.13  \n",
    "JUICER:1.5.6  \n",
    "JUICEBOX: 1.11.08   \n",
    "3D-DNA: 180419  "
   ]
  },
  {
   "cell_type": "markdown",
   "metadata": {},
   "source": [
    "### Prepare reference genome \n",
    "\n",
    "##### Download the following reference genomes:\n",
    "_D.ere_: https://ftp.ncbi.nlm.nih.gov/genomes/all/GCF/003/286/155/GCF_003286155.1_DereRS2/GCF_003286155.1_DereRS2_genomic.fna.gz      \n",
    "_D.ana_: https://ftp.ncbi.nlm.nih.gov/genomes/all/GCF/003/285/975/GCF_003285975.2_DanaRS2.1/GCF_003285975.2_DanaRS2.1_genomic.fna.gz    \n",
    "_D.yak_: https://github.com/danrdanny/Drosophila15GenomesProject/blob/master/assembledGenomes/Dyak.pass.minimap2.racon.x3.pilon.x3.fasta.gz  \n",
    "_D.sim_: https://github.com/danrdanny/Drosophila15GenomesProject/blob/master/assembledGenomes/Dsim.pass.minimap2.racon.x3.pilon.x3.fasta.gz     \n",
    "_D.fic_: ftp://ftp.ncbi.nlm.nih.gov/genomes/all/GCF/000/220/665/GCF_000220665.1_Dfic_2.0/GCF_000220665.1_Dfic_2.0_genomic.fna.gz   \n",
    "_D.bia_: ftp://ftp.ncbi.nlm.nih.gov/genomes/refseq/invertebrate/Drosophila_biarmipes/latest_assembly_versions/GCF_000233415.1_Dbia_2.0/GCF_000233415.1_Dbia_2.0_genomic.fna.gz  \n",
    "_D.tak_: ftp://ftp.ncbi.nlm.nih.gov/genomes/all/GCF/000/224/235/GCF_000224235.1_Dtak_2.0/GCF_000224235.1_Dtak_2.0_genomic.fna.gz   \n",
    "_D.eug_: ftp://ftp.ncbi.nlm.nih.gov/genomes/refseq/invertebrate/Drosophila_eugracilis/latest_assembly_versions/GCF_000236325.1_Deug_2.0/GCF_000236325.1_Deug_2.0_genomic.fna.gz    \n",
    "_D.ele_: https://i5k.nal.usda.gov/data/Arthropoda/droele-%28Drosophila_elegans%29/Current%20Genome%20Assembly/1.Genome%20Assembly/GCF_000224195.1/Scaffolds/GCF_000224195.1_Dele_2.0_genomic.fna.gz   \n",
    "_D.mel_: http://ftp.flybase.net/genomes/Drosophila_melanogaster/current/fasta/dmel-all-aligned-r6.40.fasta.gz"
   ]
  },
  {
   "cell_type": "code",
   "execution_count": null,
   "metadata": {},
   "outputs": [],
   "source": [
    "bwa index reference.fasta\n",
    "samtools faidx reference.fasta\n",
    "#fasta.fai has the length of each scaffold. Print first 2 columns for scaffold ID and length info\n",
    "awk '{print $1,$2}' reference.fasta.fai > reference.chrom.sizes"
   ]
  },
  {
   "cell_type": "markdown",
   "metadata": {},
   "source": [
    "### General steps for all species:\n",
    "\n",
    "###### Combine replicate HiC files "
   ]
  },
  {
   "cell_type": "code",
   "execution_count": null,
   "metadata": {},
   "outputs": [],
   "source": [
    "#submit SLURM script with the following to combine replicate fastq files\n",
    "zcat ./d_species_HiC_*_R1_001.fastq.gz | gzip > combined_reps_R1.fastq.gz\n",
    "zcat ./d_species_HiC_*_R2_001.fastq.gz | gzip > combined_reps_R2.fastq.gz"
   ]
  },
  {
   "cell_type": "markdown",
   "metadata": {},
   "source": [
    "Run JUICER to align HiC reads to reference assembly, create a contact matrix (.hic), and a \"merged_nodups.txt\" file to input to 3D-DNA"
   ]
  },
  {
   "cell_type": "code",
   "execution_count": null,
   "metadata": {},
   "outputs": [],
   "source": [
    "juicer.sh -d ./juicer/work/d_species -p ./juicer/references/reference.chrom.sizes -s none -z ./juicer/references/reference.fasta -D ./juicer -t 28 -b GCTGAGGGATCCCTCAGC >& ./juicer/work/d_species/juicer.log"
   ]
  },
  {
   "cell_type": "markdown",
   "metadata": {},
   "source": [
    "Run **3D-DNA**  \n",
    "First run without --editor-repeat-coverage flag. "
   ]
  },
  {
   "cell_type": "code",
   "execution_count": null,
   "metadata": {},
   "outputs": [],
   "source": [
    "./pkg/3d-dna/run-asm-pipeline.sh -m diploid -i 5000 --editor-repeat-coverage 10 -r 3 ./juicer/references/reference.fa ./juicer/work/d_species/aligned/merged_nodups.txt >& ./3D-DNA_d_species/3d-dna.log\n"
   ]
  },
  {
   "cell_type": "markdown",
   "metadata": {},
   "source": [
    "View the **rawchrom.assembly** output. If the output looks poorly aligned, run the following two commands to view a text based histogram. Run --editor-repeat coverage flag with value corresponding to the peak of the histogram."
   ]
  },
  {
   "cell_type": "code",
   "execution_count": null,
   "metadata": {},
   "outputs": [],
   "source": [
    "bash ~/pkg/3d-dna/edit/run-coverage-analyzer.sh ./3D-DNA_d_species/reference.0.hic\n",
    "\n",
    "awk -f /projects/genetics/ellison_lab/nicole/plot_coverage.awk coverage_wide.wig "
   ]
  },
  {
   "cell_type": "markdown",
   "metadata": {},
   "source": [
    "Once obtaining fairly well-aligned output. Edit any misalignments using JUICEBOX. Export new assembly and create new fasta file using the [Create new fasta](https://ondemand.hpc.rutgers.edu/node/sirius3/24846/notebooks/home/nt365/Pipelines/New_assembly_FASTA%20_and_chrom_count_table.ipynb) pipeline.\n",
    "\n",
    "Finally, use the **.chrom_count_table** to follow the steps of the [mummer pipeline](https://ondemand.hpc.rutgers.edu/node/sirius3/24846/notebooks/home/nt365/Pipelines/Mummer_pipeline.ipynb)"
   ]
  },
  {
   "cell_type": "markdown",
   "metadata": {},
   "source": [
    "## Species specific commands\n",
    "\n",
    "### SLURM scripts: D. ananassae"
   ]
  },
  {
   "cell_type": "code",
   "execution_count": null,
   "metadata": {},
   "outputs": [],
   "source": [
    "#!/bin/bash\n",
    "\n",
    "#SBATCH --partition=main    # Partition (job queue)\n",
    "#SBATCH --job-name=combinereps         # Assign an 8-character name to your job, no spaces\n",
    "#SBATCH --nodes=1                # Number of compute nodes\n",
    "#SBATCH --ntasks=1               # Processes (usually = cores) on each node\n",
    "#SBATCH --cpus-per-task=28       # Threads per process (or per core)\n",
    "#SBATCH --export=ALL             # Export you current environment settings to the job environment\n",
    "#SBATCH --time=12:00:00\n",
    "#SBATCH --mem=20G\n",
    "#SBATCH --output=/scratch/nt365/juicer/work/dana/fastq/slurm-%A_%a.out\n",
    "\n",
    "cd /scratch/nt365/juicer/work/dana/fastq\n",
    "zcat /projects/genetics/ellison_lab/data/illumina/HiC/ananassae_nuclei_*_R1_001.fastq.gz | gzip > combined_reps_R1.fastq.gz\n",
    "zcat /projects/genetics/ellison_lab/data/illumina/HiC/ananassae_nuclei_*_R2_001.fastq.gz | gzip > combined_reps_R2.fastq.gz\n"
   ]
  },
  {
   "cell_type": "code",
   "execution_count": null,
   "metadata": {},
   "outputs": [],
   "source": [
    "#!/bin/bash\n",
    "\n",
    "#SBATCH --partition=ellison_1             # Partition (job queue)\n",
    "#SBATCH --requeue                    # Return job to the queue if preempted\n",
    "#SBATCH --job-name=juicer          # Assign an short name to your job\n",
    "#SBATCH --nodes=1                    # Number of nodes you require\n",
    "#SBATCH --ntasks=1                  # Total # of tasks across all nodes\n",
    "#SBATCH --cpus-per-task=28            # Cores per task (>1 if multithread tasks)\n",
    "#SBATCH --mem=200G                 # Real memory (RAM) required (MB)\n",
    "#SBATCH --time=72:00:00              # Total run time limit (HH:MM:SS)\n",
    "#SBATCH --output=slurm.%N.%j.out     # STDOUT output file\n",
    "#SBATCH --error=slurm.%N.%j.err      # STDERR output file (optional)\n",
    "#SBATCH --export=ALL                 # Export you current env to the job env\n",
    "\n",
    "cd /scratch/nt365/juicer/\n",
    "\n",
    "source activate JUICER\n",
    "module load java\n",
    "\n",
    "/scratch/nt365/juicer/scripts/juicer.sh -d /scratch/nt365/juicer/work/dana -p /scratch/nt365/juicer/references/dana_pacbio_GCA_003285975.chrom.sizes -s none -z /scratch/nt365/juicer/references/dana_pacbio_GCA_003285975.fasta -D /scratch/nt365/juicer -t 28 -b GCTGAGGGATCCCTCAGC >& /scratch/nt365/juicer/work/dana/juicer.log"
   ]
  },
  {
   "cell_type": "code",
   "execution_count": null,
   "metadata": {},
   "outputs": [],
   "source": [
    "##!/bin/bash\n",
    "\n",
    "#SBATCH --partition=ellison_1             # Partition (job queue)\n",
    "#SBATCH --requeue                    # Return job to the queue if preempted\n",
    "#SBATCH --job-name=3D-DNA          # Assign an short name to your job\n",
    "#SBATCH --nodes=1                    # Number of nodes you require\n",
    "#SBATCH --ntasks=1                  # Total # of tasks across all nodes\n",
    "#SBATCH --cpus-per-task=28            # Cores per task (>1 if multithread tasks)\n",
    "#SBATCH --mem=120G                 # Real memory (RAM) required (MB)\n",
    "#SBATCH --time=72:00:00              # Total run time limit (HH:MM:SS)\n",
    "#SBATCH --output=slurm.%N.%j.out     # STDOUT output file\n",
    "#SBATCH --error=slurm.%N.%j.err      # STDERR output file (optional)\n",
    "#SBATCH --export=ALL                 # Export you current env to the job env\n",
    "\n",
    "cd /scratch/nt365/3D-DNA_dana10\n",
    "module load java\n",
    "\n",
    "/home/nt365/pkg/3d-dna/run-asm-pipeline.sh -m diploid -i 5000 --editor-repeat-coverage 10 -r 3 /scratch/nt365/juicer/references/dana_pacbio_GCA_003285975.fa /scratch/nt365/juicer/work/dana/aligned/merged_nodups.txt >& /scratch/nt365/3D-DNA_dana/3d-dna.log\n"
   ]
  },
  {
   "cell_type": "markdown",
   "metadata": {},
   "source": [
    "### SLURM scripts: D. erecta"
   ]
  },
  {
   "cell_type": "code",
   "execution_count": null,
   "metadata": {},
   "outputs": [],
   "source": [
    "#!/bin/bash\n",
    "\n",
    "#SBATCH --partition=main    # Partition (job queue)\n",
    "#SBATCH --job-name=combinereps         # Assign an 8-character name to your job, no spaces\n",
    "#SBATCH --nodes=1                # Number of compute nodes\n",
    "#SBATCH --ntasks=1               # Processes (usually = cores) on each node\n",
    "#SBATCH --cpus-per-task=28       # Threads per process (or per core)\n",
    "#SBATCH --export=ALL             # Export you current environment settings to the job environment\n",
    "#SBATCH --time=12:00:00\n",
    "#SBATCH --mem=20G\n",
    "#SBATCH --output=/scratch/nt365/juicer/work/dere/fastq/slurm-%A_%a.out\n",
    "\n",
    "cd /scratch/nt365/juicer/work/dere/fastq\n",
    "\n",
    "zcat /projects/genetics/ellison_lab/data/illumina/HiC/erecta_HiC_*_R1_001.fastq.gz | gzip > combined_reps_R1.fastq.gz\n",
    "zcat /projects/genetics/ellison_lab/data/illumina/HiC/erecta_HiC_*_R2_001.fastq.gz | gzip > combined_reps_R2.fastq.gz"
   ]
  },
  {
   "cell_type": "code",
   "execution_count": null,
   "metadata": {},
   "outputs": [],
   "source": [
    "#!/bin/bash\n",
    "\n",
    "#SBATCH --partition=ellison_1             # Partition (job queue)\n",
    "#SBATCH --requeue                    # Return job to the queue if preempted\n",
    "#SBATCH --job-name=juicer          # Assign an short name to your job\n",
    "#SBATCH --nodes=1                    # Number of nodes you require\n",
    "#SBATCH --ntasks=1                  # Total # of tasks across all nodes\n",
    "#SBATCH --cpus-per-task=28            # Cores per task (>1 if multithread tasks)\n",
    "#SBATCH --mem=200G                 # Real memory (RAM) required (MB)\n",
    "#SBATCH --time=72:00:00              # Total run time limit (HH:MM:SS)\n",
    "#SBATCH --output=slurm.%N.%j.out     # STDOUT output file\n",
    "#SBATCH --error=slurm.%N.%j.err      # STDERR output file (optional)\n",
    "#SBATCH --export=ALL                 # Export you current env to the job env\n",
    "\n",
    "cd /scratch/nt365/juicer/\n",
    "\n",
    "source activate JUICER\n",
    "module load java\n",
    "\n",
    "/scratch/nt365/juicer/scripts/juicer.sh -d /scratch/nt365/juicer/work/dere -p /scratch/nt365/juicer/references/dere_pacbio_GCA_003286155.chrom.sizes -s none -z /scratch/nt365/juicer/references/dere_pacbio_GCA_003286155.fasta -D /scratch/nt365/juicer -t 28 -b GCTGAGGGATCCCTCAGC >& /scratch/nt365/juicer/work/dere/juicer.log"
   ]
  },
  {
   "cell_type": "code",
   "execution_count": null,
   "metadata": {},
   "outputs": [],
   "source": [
    "#!/bin/bash\n",
    "\n",
    "#SBATCH --partition=genetics_1             # Partition (job queue)\n",
    "#SBATCH --requeue                    # Return job to the queue if preempted\n",
    "#SBATCH --job-name=3D-DNA_dere          # Assign an short name to your job\n",
    "#SBATCH --nodes=1                    # Number of nodes you require\n",
    "#SBATCH --ntasks=1                  # Total # of tasks across all nodes\n",
    "#SBATCH --cpus-per-task=28            # Cores per task (>1 if multithread tasks)\n",
    "#SBATCH --mem=120G                 # Real memory (RAM) required (MB)\n",
    "#SBATCH --time=72:00:00              # Total run time limit (HH:MM:SS)\n",
    "#SBATCH --output=slurm.%N.%j.out     # STDOUT output fil\n",
    "#SBATCH --error=slurm.%N.%j.err      # STDERR output file (optional)\n",
    "#SBATCH --export=ALL                 # Export you current env to the job env\n",
    "\n",
    "cd /scratch/nt365/3D-DNA_dere\n",
    "module load java\n",
    "\n",
    "/home/nt365/pkg/3d-dna/run-asm-pipeline.sh -m diploid -i 5000 -r 3 /scratch/nt365/juicer/references/dere_pacbio_GCA_003286155.fasta /scratch/nt365/juicer/work/dere/aligned/merged_nodups.txt >& /scratch/nt365/3D-DNA_dere/3d-dna.log"
   ]
  },
  {
   "cell_type": "markdown",
   "metadata": {},
   "source": [
    "### SLURM Scripts: _D. yakuba_\n",
    "Reference: [Dyak.pass.minimap2.racon.x3.pilon.x3.fasta](https://github.com/danrdanny/Drosophila15GenomesProject/blob/master/assembledGenomes/Dyak.pass.minimap2.racon.x3.pilon.x3.fasta.gz)\n"
   ]
  },
  {
   "cell_type": "code",
   "execution_count": null,
   "metadata": {},
   "outputs": [],
   "source": [
    "#!/bin/bash\n",
    "\n",
    "#SBATCH --partition=main    # Partition (job queue)\n",
    "#SBATCH --job-name=combinereps         # Assign an 8-character name to your job, no spaces\n",
    "#SBATCH --nodes=1                # Number of compute nodes\n",
    "#SBATCH --ntasks=1               # Processes (usually = cores) on each node\n",
    "#SBATCH --cpus-per-task=28       # Threads per process (or per core)\n",
    "#SBATCH --export=ALL             # Export you current environment settings to the job environment\n",
    "#SBATCH --time=12:00:00\n",
    "#SBATCH --mem=20G\n",
    "#SBATCH --output=/scratch/nt365/juicer/work/dyak/fastq/slurm-%A_%a.out\n",
    "\n",
    "cd /scratch/nt365/juicer/work/dyak/fastq\n",
    "zcat /projects/genetics/ellison_lab/data/illumina/HiC/yakuba_nuclei_*_R1_001.fastq.gz | gzip > combined_reps_R1.fastq.gz\n",
    "zcat /projects/genetics/ellison_lab/data/illumina/HiC/yakuba_nuclei_*_R2_001.fastq.gz | gzip > combined_reps_R2.fastq.gz"
   ]
  },
  {
   "cell_type": "code",
   "execution_count": null,
   "metadata": {},
   "outputs": [],
   "source": [
    "#!/bin/bash\n",
    "\n",
    "#SBATCH --partition=genetics_1             # Partition (job queue)\n",
    "#SBATCH --requeue                    # Return job to the queue if preempted\n",
    "#SBATCH --job-name=juicer          # Assign an short name to your job\n",
    "#SBATCH --nodes=1                    # Number of nodes you require\n",
    "#SBATCH --ntasks=1                  # Total # of tasks across all nodes\n",
    "#SBATCH --cpus-per-task=28            # Cores per task (>1 if multithread tasks)\n",
    "#SBATCH --mem=200G                 # Real memory (RAM) required (MB)\n",
    "#SBATCH --time=72:00:00              # Total run time limit (HH:MM:SS)\n",
    "#SBATCH --output=slurm.%N.%j.out     # STDOUT output file\n",
    "#SBATCH --error=slurm.%N.%j.err      # STDERR output file (optional)\n",
    "#SBATCH --export=ALL                 # Export you current env to the job env\n",
    "\n",
    "cd /scratch/nt365/juicer/\n",
    "\n",
    "source activate JUICER\n",
    "module load java\n",
    "\n",
    "/scratch/nt365/juicer/scripts/juicer.sh -d /scratch/nt365/juicer/work/dyak -p /scratch/nt365/juicer/references/dyak/Dyak.pass.minimap2.racon.x3.pilon.x3.chrom.sizes -s none -z /scratch/nt365/juicer/references/dyak/Dyak.pass.minimap2.racon.x3.pilon.x3.fasta -D /scratch/nt365/juicer -t 28 -b GCTGAGGGATCCCTCAGC >& /scratch/nt365/juicer/work/dyak/juicer.log"
   ]
  },
  {
   "cell_type": "code",
   "execution_count": null,
   "metadata": {},
   "outputs": [],
   "source": [
    "#!/bin/bash\n",
    "\n",
    "#SBATCH --partition=genetics_1             # Partition (job queue)\n",
    "#SBATCH --requeue                    # Return job to the queue if preempted\n",
    "#SBATCH --job-name=3D-DNA_dyak          # Assign an short name to your job\n",
    "#SBATCH --nodes=1                    # Number of nodes you require\n",
    "#SBATCH --ntasks=1                  # Total # of tasks across all nodes\n",
    "#SBATCH --cpus-per-task=28            # Cores per task (>1 if multithread tasks)\n",
    "#SBATCH --mem=120G                 # Real memory (RAM) required (MB)\n",
    "#SBATCH --time=72:00:00              # Total run time limit (HH:MM:SS)\n",
    "#SBATCH --output=slurm.%N.%j.out     # STDOUT output fil\n",
    "#SBATCH --error=slurm.%N.%j.err      # STDERR output file (optional)\n",
    "#SBATCH --export=ALL                 # Export you current env to the job env\n",
    "\n",
    "cd /scratch/nt365/3D-DNA_dyak\n",
    "module load java\n",
    "\n",
    "/home/nt365/pkg/3d-dna/run-asm-pipeline.sh -m diploid -i 5000 -r 3 /scratch/nt365/juicer/references/dyak/Dyak.pass.minimap2.racon.x3.pilon.x3.fasta /scratch/nt365/juicer/work/dyak/aligned/merged_nodups.txt >& /scratch/nt365/3D-DNA_dyak/3d-dna.log"
   ]
  },
  {
   "cell_type": "markdown",
   "metadata": {},
   "source": [
    "### SLURM Scripts: _D. simulans_\n",
    "Reference: [Dsim.pass.minimap2.racon.x3.pilon.x3.fasta](https://github.com/danrdanny/Drosophila15GenomesProject/blob/master/assembledGenomes/Dsim.pass.minimap2.racon.x3.pilon.x3.fasta.gz)\n"
   ]
  },
  {
   "cell_type": "code",
   "execution_count": null,
   "metadata": {},
   "outputs": [],
   "source": [
    "#!/bin/bash\n",
    "\n",
    "#SBATCH --partition=main    # Partition (job queue)\n",
    "#SBATCH --job-name=combinereps         # Assign an 8-character name to your job, no spaces\n",
    "#SBATCH --nodes=1                # Number of compute nodes\n",
    "#SBATCH --ntasks=1               # Processes (usually = cores) on each node\n",
    "#SBATCH --cpus-per-task=28       # Threads per process (or per core)\n",
    "#SBATCH --export=ALL             # Export you current environment settings to the job environment\n",
    "#SBATCH --time=12:00:00\n",
    "#SBATCH --mem=20G\n",
    "#SBATCH --output=/scratch/nt365/juicer/work/dsim/fastq/slurm-%A_%a.out\n",
    "\n",
    "cd /scratch/nt365/juicer/work/dsim/fastq\n",
    "zcat /projects/genetics/ellison_lab/data/illumina/HiC/Simulans_nuclei_*_R1_001.fastq.gz | gzip > combined_reps_R1.fastq.gz\n",
    "zcat /projects/genetics/ellison_lab/data/illumina/HiC/Simulans_nuclei_*_R2_001.fastq.gz | gzip > combined_reps_R2.fastq.gz"
   ]
  },
  {
   "cell_type": "code",
   "execution_count": null,
   "metadata": {},
   "outputs": [],
   "source": [
    "#!/bin/bash\n",
    "\n",
    "#SBATCH --partition=ellison_1             # Partition (job queue)\n",
    "#SBATCH --requeue                    # Return job to the queue if preempted\n",
    "#SBATCH --job-name=juicer          # Assign an short name to your job\n",
    "#SBATCH --nodes=1                    # Number of nodes you require\n",
    "#SBATCH --ntasks=1                  # Total # of tasks across all nodes\n",
    "#SBATCH --cpus-per-task=28            # Cores per task (>1 if multithread tasks)\n",
    "#SBATCH --mem=200G                 # Real memory (RAM) required (MB)\n",
    "#SBATCH --time=72:00:00              # Total run time limit (HH:MM:SS)\n",
    "#SBATCH --output=slurm.%N.%j.out     # STDOUT output file\n",
    "#SBATCH --error=slurm.%N.%j.err      # STDERR output file (optional)\n",
    "#SBATCH --export=ALL                 # Export you current env to the job env\n",
    "\n",
    "cd /scratch/nt365/juicer/\n",
    "\n",
    "source activate JUICER\n",
    "module load java\n",
    "\n",
    "/scratch/nt365/juicer/scripts/juicer.sh -d /scratch/nt365/juicer/work/dsim -p /scratch/nt365/juicer/references/dsim/Dsim.pass.minimap2.racon.x3.pilon.x3.chrom.sizes -s none -z /scratch/nt365/juicer/references/dsim/Dsim.pass.minimap2.racon.x3.pilon.x3.fasta -D /scratch/nt365/juicer -t 28 -b GCTGAGGGATCCCTCAGC >& /scratch/nt365/juicer/work/dsim/juicer.log"
   ]
  },
  {
   "cell_type": "code",
   "execution_count": null,
   "metadata": {},
   "outputs": [],
   "source": [
    "#!/bin/bash\n",
    "\n",
    "#SBATCH --partition=genetics_1             # Partition (job queue)\n",
    "#SBATCH --requeue                    # Return job to the queue if preempted\n",
    "#SBATCH --job-name=3D-DNA_dsim          # Assign an short name to your job\n",
    "#SBATCH --nodes=1                    # Number of nodes you require\n",
    "#SBATCH --ntasks=1                  # Total # of tasks across all nodes\n",
    "#SBATCH --cpus-per-task=28            # Cores per task (>1 if multithread tasks)\n",
    "#SBATCH --mem=120G                 # Real memory (RAM) required (MB)\n",
    "#SBATCH --time=72:00:00              # Total run time limit (HH:MM:SS)\n",
    "#SBATCH --output=slurm.%N.%j.out     # STDOUT output fil\n",
    "#SBATCH --error=slurm.%N.%j.err      # STDERR output file (optional)\n",
    "#SBATCH --export=ALL                 # Export you current env to the job env\n",
    "\n",
    "cd /scratch/nt365/3D-DNA_dsim15\n",
    "module load java\n",
    "\n",
    "/home/nt365/pkg/3d-dna/run-asm-pipeline.sh -m diploid -i 5000 -r 3 --editor-repeat-coverage 15 /scratch/nt365/juicer/references/dsim/Dsim.pass.minimap2.racon.x3.pilon.x3.fasta /scratch/nt365/juicer/work/dsim/aligned/merged_nodups.txt >& /scratch/nt365/3D-DNA_dsim15/3d-dna.log"
   ]
  },
  {
   "cell_type": "markdown",
   "metadata": {},
   "source": [
    "### _D. takahashii_ commands\n",
    "Reference: [GCF_000224235.1_Dtak_2.0_genomic.fna.gz](ftp://ftp.ncbi.nlm.nih.gov/genomes/all/GCF/000/224/235/GCF_000224235.1_Dtak_2.0/GCF_000224235.1_Dtak_2.0_genomic.fna.gz)\n"
   ]
  },
  {
   "cell_type": "code",
   "execution_count": null,
   "metadata": {},
   "outputs": [],
   "source": [
    "zcat /projects/genetics/ellison_lab/data/illumina/HiC/takahashii_HiC_*_R1_001.fastq.gz | gzip > combined_reps_R1.fastq.gz\n",
    "zcat /projects/genetics/ellison_lab/data/illumina/HiC/takahashii_HiC_*_R2_001.fastq.gz | gzip > combined_reps_R2.fastq.gz\n",
    "\n",
    "module load java/1.8.0_211\n",
    "/scratch/tg484/Dtak/juicer/scripts/juicer.sh -d /scratch/tg484/Dtak/juicer/work/Dtak -p /scratch/tg484/Dtak/juicer/references/Dtak_r2_illumina_reformat.chrom.sizes -s none -z /scratch/tg484/Dtak/juicer/references/Dtak_r2_illumina.reformat.fa -D /scratch/tg484/Dtak/juicer -t 28 -b GCTGAGGGATCCCTCAGC >& /scratch/tg484/Dtak/juicer/work/Dtak/juicer.log\n",
    "\n",
    "/home/tg484/pkg/3d-dna/run-asm-pipeline.sh ---build-gapped-map --editor-repeat-coverage 4 -m diploid -i 5000 -r 3 /scratch/tg484/Dtak/juicer/references/Dtak_r2_illumina.reformat.fa /scratch/tg484/Dtak/juicer/work/Dtak/aligned/merged_nodups.txt >& /scratch/tg484/Dtak/3D-DNA/3d-dna.log"
   ]
  },
  {
   "cell_type": "markdown",
   "metadata": {},
   "source": [
    "### _D. eugracilis_ commands\n",
    "Reference: [GCF_000236325.1_Deug_2.0/GCF_000236325.1_Deug_2.0_genomic.fna.gz](ftp://ftp.ncbi.nlm.nih.gov/genomes/refseq/invertebrate/Drosophila_eugracilis/latest_assembly_versions/GCF_000236325.1_Deug_2.0/GCF_000236325.1_Deug_2.0_genomic.fna.gz)\n"
   ]
  },
  {
   "cell_type": "code",
   "execution_count": null,
   "metadata": {},
   "outputs": [],
   "source": [
    "cd /scratch/tg484/Deug/juicer/work/deug/fastq\n",
    "zcat /projects/genetics/ellison_lab/data/illumina/HiC/eugracilis_HiC_*_R1_001.fastq.gz | gzip > combined_reps_R1.fastq.gz\n",
    "zcat /projects/genetics/ellison_lab/data/illumina/HiC/eugracilis_HiC_*_R2_001.fastq.gz | gzip > combined_reps_R2.fastq.gz\n",
    "\n",
    "conda activate bwa \n",
    "module load java\n",
    "/scratch/tg484/Deug/juicer/scripts/juicer.sh -d /scratch/tg484/Deug/juicer/work/deug -p /scratch/tg484/Deug/juicer/references/Deug_r2_illumina_patched.chrom.sizes -s none -z /scratch/tg484/Deug/juicer/references/Deug_r2_illumina_patched.fa -D /scratch/tg484/Deug/juicer -t 28 -b GCTGAGGGATCCCTCAGC >& /scratch/tg484/Dana/juicer/work/dana/juicer.log\n",
    "\n",
    "/home/tg484/pkg/3d-dna/run-asm-pipeline.sh ---build-gapped-map --editor-repeat-coverage 4 -m diploid -i 5000 -r 3 /scratch/tg484/Deug/juicer/references/Deug_r2_illumina_patched.fa /scratch/tg484/Deug/juicer/work/deug/aligned/merged_nodups.txt >& /scratch/tg484/Deug/3D-DNA/3d-dna.log"
   ]
  },
  {
   "cell_type": "markdown",
   "metadata": {},
   "source": [
    "### _D. elegans_ commands\n",
    "Reference: [GCF_000236325.1_Deug_2.0/GCF_000236325.1_Deug_2.0_genomic.fna.gz](https://i5k.nal.usda.gov/data/Arthropoda/droele-%28Drosophila_elegans%29/Current%20Genome%20Assembly/1.Genome%20Assembly/GCF_000224195.1/Scaffolds/GCF_000224195.1_Dele_2.0_genomic.fna.gz)"
   ]
  },
  {
   "cell_type": "code",
   "execution_count": null,
   "metadata": {},
   "outputs": [],
   "source": [
    "cd /projects/genetics/ellison_lab/data/illumina/HiC\n",
    "cp elegans_nuclei_S1_R1_001.fastq.gz /scratch/tg484/Dele/juicer/work/Dele/fastq\n",
    "cp elegans_nuclei_S1_R2_001.fastq.gz /scratch/tg484/Dele/juicer/work/Dele/fastq\n",
    "\n",
    "conda activate bwa \n",
    "module load java/1.8.0_211\n",
    "/scratch/tg484/Dele/juicer/scripts/juicer.sh -d /scratch/tg484/Dele/juicer/work/Dele -p /scratch/tg484/Dele/juicer/references/Dele_r2_illumina_reformat.chrom.sizes -s none -z /scratch/tg484/Dele/juicer/references/Dele_r2_illumina.reformat.fa -D /scratch/tg484/Dele/juicer -t 28 -b GCTGAGGGATCCCTCAGC >& /scratch/tg484/Dele/juicer/work/Dele/juicer.log\n",
    "\n",
    "\n",
    "module load java/1.8.0_211\n",
    "/home/tg484/pkg/3d-dna/run-asm-pipeline.sh ---build-gapped-map --editor-repeat-coverage 9 -m diploid -i 5000 -r 3 /scratch/tg484/Dele/juicer/references/Dele_r2_illumina.reformat.fa /scratch/tg484/Dele/juicer/work/Dele/aligned/merged_nodups.txt >& /scratch/tg484/Dele/3D-DNA/3d-dna.log\n"
   ]
  },
  {
   "cell_type": "markdown",
   "metadata": {},
   "source": [
    "### _D. biarmipes_ commands\n",
    "Reference: [GCF_000233415.1_Dbia_2.0_genomic.fna.gz](ftp://ftp.ncbi.nlm.nih.gov/genomes/refseq/invertebrate/Drosophila_biarmipes/latest_assembly_versions/GCF_000233415.1_Dbia_2.0/GCF_000233415.1_Dbia_2.0_genomic.fna.gz)"
   ]
  },
  {
   "cell_type": "code",
   "execution_count": null,
   "metadata": {},
   "outputs": [],
   "source": [
    "cd /scratch/tg484/Dbia/juicer/work/dbia/fastq\n",
    "zcat /projects/genetics/ellison_lab/data/illumina/HiC/biarmipes_nuclei_*_R1_001.fastq.gz | gzip > combined_reps_R1.fastq.gz\n",
    "zcat /projects/genetics/ellison_lab/data/illumina/HiC/biarmipes_nuclei_*_R2_001.fastq.gz | gzip > combined_reps_R2.fastq.gz\n",
    "\n",
    "module load java\n",
    "/scratch/tg484/Dbia/juicer/scripts/juicer.sh -d /scratch/tg484/Dbia/juicer/work/dbia -p /scratch/tg484/Dbia/juicer/references/Dbia_r2_illumina_patched.chrom.sizes -s none -z /scratch/tg484/Dbia/juicer/references/Dbia_r2_illumina_patched.fa -D /scratch/tg484/Dbia/juicer -t 28 -b GCTGAGGGATCCCTCAGC >& //scratch/tg484/Dbia/juicer/work/dbia/juicer.log\n",
    "\n",
    "module load java\n",
    "/home/tg484/pkg/3d-dna/run-asm-pipeline.sh -m diploid -i 5000 -r 5 -q 20 /scratch/tg484/Dbia/juicer/references/Dbia_r2_illumina_patched.fa /scratch/tg484/Dbia/juicer/work/dbia/aligned/merged_nodups.txt >& /scratch/tg484/Dbia/3D-DNA_biarmipes/3d-dna.log"
   ]
  },
  {
   "cell_type": "markdown",
   "metadata": {},
   "source": [
    "### _D. ficusphila_ commands\n",
    "Reference: [GCF_000220665.1_Dfic_2.0_genomic.fna.gz](ftp://ftp.ncbi.nlm.nih.gov/genomes/all/GCF/000/220/665/GCF_000220665.1_Dfic_2.0/GCF_000220665.1_Dfic_2.0_genomic.fna.gz)"
   ]
  },
  {
   "cell_type": "code",
   "execution_count": null,
   "metadata": {},
   "outputs": [],
   "source": [
    "cd /scratch/tg484/Deug/juicer/work/deug/fastq\n",
    "zcat /projects/genetics/ellison_lab/data/illumina/HiC/ficusphila_nuclei_*_R1_001.fastq.gz | gzip > combined_reps_R1.fastq.gz\n",
    "zcat /projects/genetics/ellison_lab/data/illumina/HiC/ficusphila_nuclei_*_R2_001.fastq.gz | gzip > combined_reps_R2.fastq.gz\n",
    "\n",
    "module load java\n",
    "/scratch/tg484/Dfic/juicer/scripts/juicer.sh -d /scratch/tg484/Dfic/juicer/work/Dfic -p /scratch/tg484/Dfic/juicer/references/Dfic_r2_illumina_reformat.chrom.sizes -s none -z /scratch/tg484/Dfic/juicer/references/Dfic_r2_illumina.reformat.fa -D /scratch/tg484/Dfic/juicer -t 28 -b GCTGAGGGATCCCTCAGC >& /scratch/tg484/Dfic/juicer/work/Dfic/juicer.log\n",
    "\n",
    "/home/tg484/pkg/3d-dna/run-asm-pipeline.sh ---build-gapped-map --editor-repeat-coverage 8 -m diploid -i 5000 -r 3 /scratch/tg484/Dfic/juicer/references/Dfic_r2_illumina.reformat.fa /scratch/tg484/Dfic/juicer/work/Dfic/aligned/merged_nodups.txt >& /scratch/tg484/Dfic/3D-DNA/3d-dna.log"
   ]
  },
  {
   "cell_type": "markdown",
   "metadata": {},
   "source": [
    "###  _D. melanogaster_ commands"
   ]
  },
  {
   "cell_type": "code",
   "execution_count": null,
   "metadata": {},
   "outputs": [],
   "source": []
  },
  {
   "cell_type": "code",
   "execution_count": null,
   "metadata": {},
   "outputs": [],
   "source": []
  }
 ],
 "metadata": {
  "kernelspec": {
   "display_name": "Python 3",
   "language": "python",
   "name": "python3"
  },
  "language_info": {
   "codemirror_mode": {
    "name": "ipython",
    "version": 3
   },
   "file_extension": ".py",
   "mimetype": "text/x-python",
   "name": "python",
   "nbconvert_exporter": "python",
   "pygments_lexer": "ipython3",
   "version": "3.7.10"
  }
 },
 "nbformat": 4,
 "nbformat_minor": 2
}
